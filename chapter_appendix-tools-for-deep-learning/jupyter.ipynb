{
  "cells": [
    {
      "cell_type": "markdown",
      "source": [
        "Vegetable"
      ],
      "metadata": {
        "id": "AJJeYEnjBBV_"
      },
      "id": "AJJeYEnjBBV_"
    },
    {
      "cell_type": "code",
      "metadata": {
        "colab": {
          "base_uri": "https://localhost:8080/"
        },
        "id": "6ba96b91",
        "outputId": "1d17c861-e1d9-4228-9f1e-5defaf2e0f73"
      },
      "source": [
        "import zipfile\n",
        "import os\n",
        "\n",
        "def unzip_file(zip_path, extract_path):\n",
        "    \"\"\"Unzips a file to a specified directory.\"\"\"\n",
        "    os.makedirs(extract_path, exist_ok=True)\n",
        "    with zipfile.ZipFile(zip_path, 'r') as zip_ref:\n",
        "        zip_ref.extractall(extract_path)\n",
        "    print(f\"Unzipped {zip_path} to {extract_path}\")\n",
        "\n",
        "unzip_file(\"/content/train.zip\", \"./\")\n",
        "unzip_file(\"/content/test.zip\", \"./\")"
      ],
      "id": "6ba96b91",
      "execution_count": 5,
      "outputs": [
        {
          "output_type": "stream",
          "name": "stdout",
          "text": [
            "Unzipped /content/train.zip to ./\n",
            "Unzipped /content/test.zip to ./\n"
          ]
        }
      ]
    },
    {
      "cell_type": "code",
      "source": [
        "import matplotlib.pyplot as plt\n",
        "from tensorflow.keras.models import Sequential\n",
        "from tensorflow.keras.preprocessing.image import ImageDataGenerator\n",
        "from tensorflow.keras.callbacks import EarlyStopping, ModelCheckpoint\n",
        "from tensorflow.keras.layers import Conv2D, MaxPooling2D, Flatten, Dense, Dropout\n",
        "\n",
        "\n",
        "#Image Preprocessing using ImageDataGenerator\n",
        "\n",
        "train_dir = \"./train\"\n",
        "test_dir = \"./test\"\n",
        "img_height, img_width = 128, 128\n",
        "batch_size = 32\n",
        "\n",
        "datagen = ImageDataGenerator(\n",
        " rescale=1./255,\n",
        " validation_split=0.2 # 20% of training data for validation\n",
        ")\n",
        "train_data = datagen.flow_from_directory(\n",
        " train_dir,\n",
        " target_size=(img_height, img_width),\n",
        " batch_size=batch_size,\n",
        " class_mode='categorical',\n",
        " subset='training'\n",
        ")\n",
        "\n",
        "val_data = datagen.flow_from_directory(\n",
        " train_dir,\n",
        " target_size=(img_height, img_width),\n",
        " batch_size=batch_size,\n",
        " class_mode='categorical',\n",
        " subset='validation'\n",
        ")\n",
        "\n",
        "test_datagen = ImageDataGenerator(rescale=1./255)\n",
        "test_data = test_datagen.flow_from_directory(\n",
        " test_dir,\n",
        " target_size=(img_height, img_width),\n",
        " batch_size=batch_size,\n",
        " class_mode='categorical',\n",
        " shuffle=False\n",
        ")\n",
        "num_classes = len(train_data.class_indices)\n",
        "print(f\"The number of classes are: {num_classes}\")"
      ],
      "metadata": {
        "colab": {
          "base_uri": "https://localhost:8080/"
        },
        "id": "MKtcCAp1BUhP",
        "outputId": "60db33c1-d536-499b-a584-ecc1ed8a2fe4"
      },
      "id": "MKtcCAp1BUhP",
      "execution_count": 10,
      "outputs": [
        {
          "output_type": "stream",
          "name": "stdout",
          "text": [
            "Found 832 images belonging to 9 classes.\n",
            "Found 204 images belonging to 9 classes.\n",
            "Found 90 images belonging to 9 classes.\n",
            "The number of classes are: 9\n"
          ]
        }
      ]
    },
    {
      "cell_type": "code",
      "source": [
        "#2.B. ANN Model Definition\n",
        "\n",
        "ann_model = Sequential([\n",
        " Flatten(input_shape=(img_height, img_width, 3)),\n",
        " Dense(256, activation='relu'),\n",
        " Dropout(0.3),\n",
        " Dense(128, activation='relu'),\n",
        " Dropout(0.2),\n",
        "\n",
        " Dense(num_classes, activation='softmax')\n",
        "])\n",
        "\n",
        "\n",
        "ann_model.summary()\n",
        "\n",
        "\n",
        "#2c Compile and Train the ANN Model\n",
        "\n",
        "ann_model.compile(\n",
        " optimizer='adam',\n",
        " loss='categorical_crossentropy',\n",
        " metrics=['accuracy']\n",
        ")\n",
        "history_ann = ann_model.fit(\n",
        " train_data,\n",
        " validation_data=val_data,\n",
        " epochs=10\n",
        ")\n",
        "\n",
        "\n",
        "#2.D. Evaluate on Test Data\n",
        "test_loss, test_acc = ann_model.evaluate(test_data)\n",
        "print(f\"ANN Test Accuracy: {test_acc:.4f}\")\n",
        "\n",
        "\n",
        "#2.E. Plot Training Curves\n",
        "\n",
        "plt.figure(figsize=(10,4))\n",
        "plt.subplot(1,2,1)\n",
        "plt.plot(history_ann.history['accuracy'], label='Train Acc')\n",
        "plt.plot(history_ann.history['val_accuracy'], label='Val Acc')\n",
        "plt.title(\"ANN Accuracy\")\n",
        "plt.xlabel(\"Epochs\")\n",
        "plt.ylabel(\"Accuracy\")\n",
        "plt.legend()\n",
        "plt.subplot(1,2,2)\n",
        "plt.plot(history_ann.history['loss'], label='Train Loss')\n",
        "plt.plot(history_ann.history['val_loss'], label='Val Loss')\n",
        "plt.title(\"ANN Loss\")\n",
        "plt.xlabel(\"Epochs\")\n",
        "plt.ylabel(\"Loss\")\n",
        "plt.legend()\n",
        "plt.show()\n"
      ],
      "metadata": {
        "colab": {
          "base_uri": "https://localhost:8080/",
          "height": 1000
        },
        "id": "u1iU-mE-CSgR",
        "outputId": "5acb72fc-e4cb-4ffa-a02f-f76f796e4ce1"
      },
      "id": "u1iU-mE-CSgR",
      "execution_count": 11,
      "outputs": [
        {
          "output_type": "stream",
          "name": "stderr",
          "text": [
            "/usr/local/lib/python3.12/dist-packages/keras/src/layers/reshaping/flatten.py:37: UserWarning: Do not pass an `input_shape`/`input_dim` argument to a layer. When using Sequential models, prefer using an `Input(shape)` object as the first layer in the model instead.\n",
            "  super().__init__(**kwargs)\n"
          ]
        },
        {
          "output_type": "display_data",
          "data": {
            "text/plain": [
              "\u001b[1mModel: \"sequential\"\u001b[0m\n"
            ],
            "text/html": [
              "<pre style=\"white-space:pre;overflow-x:auto;line-height:normal;font-family:Menlo,'DejaVu Sans Mono',consolas,'Courier New',monospace\"><span style=\"font-weight: bold\">Model: \"sequential\"</span>\n",
              "</pre>\n"
            ]
          },
          "metadata": {}
        },
        {
          "output_type": "display_data",
          "data": {
            "text/plain": [
              "┏━━━━━━━━━━━━━━━━━━━━━━━━━━━━━━━━━┳━━━━━━━━━━━━━━━━━━━━━━━━┳━━━━━━━━━━━━━━━┓\n",
              "┃\u001b[1m \u001b[0m\u001b[1mLayer (type)                   \u001b[0m\u001b[1m \u001b[0m┃\u001b[1m \u001b[0m\u001b[1mOutput Shape          \u001b[0m\u001b[1m \u001b[0m┃\u001b[1m \u001b[0m\u001b[1m      Param #\u001b[0m\u001b[1m \u001b[0m┃\n",
              "┡━━━━━━━━━━━━━━━━━━━━━━━━━━━━━━━━━╇━━━━━━━━━━━━━━━━━━━━━━━━╇━━━━━━━━━━━━━━━┩\n",
              "│ flatten (\u001b[38;5;33mFlatten\u001b[0m)               │ (\u001b[38;5;45mNone\u001b[0m, \u001b[38;5;34m49152\u001b[0m)          │             \u001b[38;5;34m0\u001b[0m │\n",
              "├─────────────────────────────────┼────────────────────────┼───────────────┤\n",
              "│ dense (\u001b[38;5;33mDense\u001b[0m)                   │ (\u001b[38;5;45mNone\u001b[0m, \u001b[38;5;34m256\u001b[0m)            │    \u001b[38;5;34m12,583,168\u001b[0m │\n",
              "├─────────────────────────────────┼────────────────────────┼───────────────┤\n",
              "│ dropout (\u001b[38;5;33mDropout\u001b[0m)               │ (\u001b[38;5;45mNone\u001b[0m, \u001b[38;5;34m256\u001b[0m)            │             \u001b[38;5;34m0\u001b[0m │\n",
              "├─────────────────────────────────┼────────────────────────┼───────────────┤\n",
              "│ dense_1 (\u001b[38;5;33mDense\u001b[0m)                 │ (\u001b[38;5;45mNone\u001b[0m, \u001b[38;5;34m128\u001b[0m)            │        \u001b[38;5;34m32,896\u001b[0m │\n",
              "├─────────────────────────────────┼────────────────────────┼───────────────┤\n",
              "│ dropout_1 (\u001b[38;5;33mDropout\u001b[0m)             │ (\u001b[38;5;45mNone\u001b[0m, \u001b[38;5;34m128\u001b[0m)            │             \u001b[38;5;34m0\u001b[0m │\n",
              "├─────────────────────────────────┼────────────────────────┼───────────────┤\n",
              "│ dense_2 (\u001b[38;5;33mDense\u001b[0m)                 │ (\u001b[38;5;45mNone\u001b[0m, \u001b[38;5;34m9\u001b[0m)              │         \u001b[38;5;34m1,161\u001b[0m │\n",
              "└─────────────────────────────────┴────────────────────────┴───────────────┘\n"
            ],
            "text/html": [
              "<pre style=\"white-space:pre;overflow-x:auto;line-height:normal;font-family:Menlo,'DejaVu Sans Mono',consolas,'Courier New',monospace\">┏━━━━━━━━━━━━━━━━━━━━━━━━━━━━━━━━━┳━━━━━━━━━━━━━━━━━━━━━━━━┳━━━━━━━━━━━━━━━┓\n",
              "┃<span style=\"font-weight: bold\"> Layer (type)                    </span>┃<span style=\"font-weight: bold\"> Output Shape           </span>┃<span style=\"font-weight: bold\">       Param # </span>┃\n",
              "┡━━━━━━━━━━━━━━━━━━━━━━━━━━━━━━━━━╇━━━━━━━━━━━━━━━━━━━━━━━━╇━━━━━━━━━━━━━━━┩\n",
              "│ flatten (<span style=\"color: #0087ff; text-decoration-color: #0087ff\">Flatten</span>)               │ (<span style=\"color: #00d7ff; text-decoration-color: #00d7ff\">None</span>, <span style=\"color: #00af00; text-decoration-color: #00af00\">49152</span>)          │             <span style=\"color: #00af00; text-decoration-color: #00af00\">0</span> │\n",
              "├─────────────────────────────────┼────────────────────────┼───────────────┤\n",
              "│ dense (<span style=\"color: #0087ff; text-decoration-color: #0087ff\">Dense</span>)                   │ (<span style=\"color: #00d7ff; text-decoration-color: #00d7ff\">None</span>, <span style=\"color: #00af00; text-decoration-color: #00af00\">256</span>)            │    <span style=\"color: #00af00; text-decoration-color: #00af00\">12,583,168</span> │\n",
              "├─────────────────────────────────┼────────────────────────┼───────────────┤\n",
              "│ dropout (<span style=\"color: #0087ff; text-decoration-color: #0087ff\">Dropout</span>)               │ (<span style=\"color: #00d7ff; text-decoration-color: #00d7ff\">None</span>, <span style=\"color: #00af00; text-decoration-color: #00af00\">256</span>)            │             <span style=\"color: #00af00; text-decoration-color: #00af00\">0</span> │\n",
              "├─────────────────────────────────┼────────────────────────┼───────────────┤\n",
              "│ dense_1 (<span style=\"color: #0087ff; text-decoration-color: #0087ff\">Dense</span>)                 │ (<span style=\"color: #00d7ff; text-decoration-color: #00d7ff\">None</span>, <span style=\"color: #00af00; text-decoration-color: #00af00\">128</span>)            │        <span style=\"color: #00af00; text-decoration-color: #00af00\">32,896</span> │\n",
              "├─────────────────────────────────┼────────────────────────┼───────────────┤\n",
              "│ dropout_1 (<span style=\"color: #0087ff; text-decoration-color: #0087ff\">Dropout</span>)             │ (<span style=\"color: #00d7ff; text-decoration-color: #00d7ff\">None</span>, <span style=\"color: #00af00; text-decoration-color: #00af00\">128</span>)            │             <span style=\"color: #00af00; text-decoration-color: #00af00\">0</span> │\n",
              "├─────────────────────────────────┼────────────────────────┼───────────────┤\n",
              "│ dense_2 (<span style=\"color: #0087ff; text-decoration-color: #0087ff\">Dense</span>)                 │ (<span style=\"color: #00d7ff; text-decoration-color: #00d7ff\">None</span>, <span style=\"color: #00af00; text-decoration-color: #00af00\">9</span>)              │         <span style=\"color: #00af00; text-decoration-color: #00af00\">1,161</span> │\n",
              "└─────────────────────────────────┴────────────────────────┴───────────────┘\n",
              "</pre>\n"
            ]
          },
          "metadata": {}
        },
        {
          "output_type": "display_data",
          "data": {
            "text/plain": [
              "\u001b[1m Total params: \u001b[0m\u001b[38;5;34m12,617,225\u001b[0m (48.13 MB)\n"
            ],
            "text/html": [
              "<pre style=\"white-space:pre;overflow-x:auto;line-height:normal;font-family:Menlo,'DejaVu Sans Mono',consolas,'Courier New',monospace\"><span style=\"font-weight: bold\"> Total params: </span><span style=\"color: #00af00; text-decoration-color: #00af00\">12,617,225</span> (48.13 MB)\n",
              "</pre>\n"
            ]
          },
          "metadata": {}
        },
        {
          "output_type": "display_data",
          "data": {
            "text/plain": [
              "\u001b[1m Trainable params: \u001b[0m\u001b[38;5;34m12,617,225\u001b[0m (48.13 MB)\n"
            ],
            "text/html": [
              "<pre style=\"white-space:pre;overflow-x:auto;line-height:normal;font-family:Menlo,'DejaVu Sans Mono',consolas,'Courier New',monospace\"><span style=\"font-weight: bold\"> Trainable params: </span><span style=\"color: #00af00; text-decoration-color: #00af00\">12,617,225</span> (48.13 MB)\n",
              "</pre>\n"
            ]
          },
          "metadata": {}
        },
        {
          "output_type": "display_data",
          "data": {
            "text/plain": [
              "\u001b[1m Non-trainable params: \u001b[0m\u001b[38;5;34m0\u001b[0m (0.00 B)\n"
            ],
            "text/html": [
              "<pre style=\"white-space:pre;overflow-x:auto;line-height:normal;font-family:Menlo,'DejaVu Sans Mono',consolas,'Courier New',monospace\"><span style=\"font-weight: bold\"> Non-trainable params: </span><span style=\"color: #00af00; text-decoration-color: #00af00\">0</span> (0.00 B)\n",
              "</pre>\n"
            ]
          },
          "metadata": {}
        },
        {
          "output_type": "stream",
          "name": "stderr",
          "text": [
            "/usr/local/lib/python3.12/dist-packages/keras/src/trainers/data_adapters/py_dataset_adapter.py:121: UserWarning: Your `PyDataset` class should call `super().__init__(**kwargs)` in its constructor. `**kwargs` can include `workers`, `use_multiprocessing`, `max_queue_size`. Do not pass these arguments to `fit()`, as they will be ignored.\n",
            "  self._warn_if_super_not_called()\n"
          ]
        },
        {
          "output_type": "stream",
          "name": "stdout",
          "text": [
            "Epoch 1/10\n",
            "\u001b[1m26/26\u001b[0m \u001b[32m━━━━━━━━━━━━━━━━━━━━\u001b[0m\u001b[37m\u001b[0m \u001b[1m10s\u001b[0m 332ms/step - accuracy: 0.1240 - loss: 14.7065 - val_accuracy: 0.1422 - val_loss: 2.1046\n",
            "Epoch 2/10\n",
            "\u001b[1m26/26\u001b[0m \u001b[32m━━━━━━━━━━━━━━━━━━━━\u001b[0m\u001b[37m\u001b[0m \u001b[1m7s\u001b[0m 271ms/step - accuracy: 0.1799 - loss: 2.1521 - val_accuracy: 0.2255 - val_loss: 1.9949\n",
            "Epoch 3/10\n",
            "\u001b[1m26/26\u001b[0m \u001b[32m━━━━━━━━━━━━━━━━━━━━\u001b[0m\u001b[37m\u001b[0m \u001b[1m8s\u001b[0m 310ms/step - accuracy: 0.2102 - loss: 2.0468 - val_accuracy: 0.2059 - val_loss: 2.0385\n",
            "Epoch 4/10\n",
            "\u001b[1m26/26\u001b[0m \u001b[32m━━━━━━━━━━━━━━━━━━━━\u001b[0m\u001b[37m\u001b[0m \u001b[1m7s\u001b[0m 257ms/step - accuracy: 0.2179 - loss: 2.0083 - val_accuracy: 0.2304 - val_loss: 1.9806\n",
            "Epoch 5/10\n",
            "\u001b[1m26/26\u001b[0m \u001b[32m━━━━━━━━━━━━━━━━━━━━\u001b[0m\u001b[37m\u001b[0m \u001b[1m8s\u001b[0m 302ms/step - accuracy: 0.2112 - loss: 2.0395 - val_accuracy: 0.2353 - val_loss: 1.9453\n",
            "Epoch 6/10\n",
            "\u001b[1m26/26\u001b[0m \u001b[32m━━━━━━━━━━━━━━━━━━━━\u001b[0m\u001b[37m\u001b[0m \u001b[1m7s\u001b[0m 273ms/step - accuracy: 0.2283 - loss: 1.9875 - val_accuracy: 0.2010 - val_loss: 2.0612\n",
            "Epoch 7/10\n",
            "\u001b[1m26/26\u001b[0m \u001b[32m━━━━━━━━━━━━━━━━━━━━\u001b[0m\u001b[37m\u001b[0m \u001b[1m8s\u001b[0m 289ms/step - accuracy: 0.2183 - loss: 2.0302 - val_accuracy: 0.2010 - val_loss: 2.0059\n",
            "Epoch 8/10\n",
            "\u001b[1m26/26\u001b[0m \u001b[32m━━━━━━━━━━━━━━━━━━━━\u001b[0m\u001b[37m\u001b[0m \u001b[1m8s\u001b[0m 294ms/step - accuracy: 0.2242 - loss: 1.9622 - val_accuracy: 0.2157 - val_loss: 1.9649\n",
            "Epoch 9/10\n",
            "\u001b[1m26/26\u001b[0m \u001b[32m━━━━━━━━━━━━━━━━━━━━\u001b[0m\u001b[37m\u001b[0m \u001b[1m9s\u001b[0m 253ms/step - accuracy: 0.2020 - loss: 1.9835 - val_accuracy: 0.2206 - val_loss: 1.9535\n",
            "Epoch 10/10\n",
            "\u001b[1m26/26\u001b[0m \u001b[32m━━━━━━━━━━━━━━━━━━━━\u001b[0m\u001b[37m\u001b[0m \u001b[1m8s\u001b[0m 299ms/step - accuracy: 0.1933 - loss: 1.9975 - val_accuracy: 0.2010 - val_loss: 2.0288\n",
            "\u001b[1m3/3\u001b[0m \u001b[32m━━━━━━━━━━━━━━━━━━━━\u001b[0m\u001b[37m\u001b[0m \u001b[1m0s\u001b[0m 45ms/step - accuracy: 0.2384 - loss: 2.0451\n",
            "ANN Test Accuracy: 0.2111\n"
          ]
        },
        {
          "output_type": "display_data",
          "data": {
            "text/plain": [
              "<Figure size 1000x400 with 2 Axes>"
            ],
            "image/png": "[encoded data removed]"
          },
          "metadata": {}
        }
      ]
    },
    {
      "cell_type": "code",
      "source": [
        "import matplotlib.pyplot as plt\n",
        "from tensorflow.keras.models import Sequential\n",
        "from tensorflow.keras.preprocessing.image import ImageDataGenerator\n",
        "from tensorflow.keras.callbacks import EarlyStopping, ModelCheckpoint\n",
        "from tensorflow.keras.layers import Conv2D, MaxPooling2D, Flatten, Dense, Dropout\n",
        "\n",
        "\n",
        "#Image Preprocessing using ImageDataGenerator\n",
        "\n",
        "train_dir = \"./train\"\n",
        "test_dir = \"./test\"\n",
        "img_height, img_width = 128, 128\n",
        "batch_size = 32\n",
        "\n",
        "datagen = ImageDataGenerator(\n",
        " rescale=1./255,\n",
        " validation_split=0.2 # 20% of training data for validation\n",
        ")\n",
        "train_data = datagen.flow_from_directory(\n",
        " train_dir,\n",
        " target_size=(img_height, img_width),\n",
        " batch_size=batch_size,\n",
        " class_mode='categorical',\n",
        " subset='training'\n",
        ")\n",
        "val_data = datagen.flow_from_directory(\n",
        " train_dir,\n",
        " target_size=(img_height, img_width),\n",
        " batch_size=batch_size,\n",
        " class_mode='categorical',\n",
        " subset='validation'\n",
        ")\n",
        "test_datagen = ImageDataGenerator(rescale=1./255)\n",
        "test_data = test_datagen.flow_from_directory(\n",
        " test_dir,\n",
        " target_size=(img_height, img_width),\n",
        " batch_size=batch_size,\n",
        " class_mode='categorical',\n",
        " shuffle=False\n",
        ")\n",
        "num_classes = len(train_data.class_indices)\n",
        "print(f\"The number of classes are: {num_classes}\")\n",
        "\n",
        "\n",
        "#3.B. CNN Model Definition\n",
        "\n",
        "cnn_model = Sequential([\n",
        " Conv2D(32, (3,3), activation='relu', input_shape=(img_height, img_width, 3)),\n",
        " MaxPooling2D(2,2),\n",
        " Conv2D(64, (3,3), activation='relu'),\n",
        " MaxPooling2D(2,2),\n",
        " Flatten(),\n",
        "\n",
        " Dense(128, activation='relu'),\n",
        " Dropout(0.3),\n",
        " Dense(num_classes, activation='softmax')\n",
        "])\n",
        "# Print Model Summary\n",
        "cnn_model.summary()\n",
        "\n",
        "\n",
        "# 3.C. Compile and Train the CNN Model\n",
        "\n",
        "cnn_model.compile(\n",
        " optimizer='adam',\n",
        " loss='categorical_crossentropy',\n",
        " metrics=['accuracy']\n",
        ")\n",
        "history_cnn = cnn_model.fit(\n",
        " train_data,\n",
        " validation_data=val_data,\n",
        " epochs=10\n",
        ")\n",
        "\n",
        "# 3.D. Evaluate on Test Data\n",
        "test_loss, test_acc = cnn_model.evaluate(test_data)\n",
        "print(f\"CNN Test Accuracy: {test_acc:.4f}\")\n",
        "\n",
        "\n",
        "#3.E. Plot Training Curves\n",
        "\n",
        "plt.figure(figsize=(10, 4))\n",
        "plt.subplot(1, 2, 1)\n",
        "plt.plot(history_cnn.history['accuracy'], label='Train Acc')\n",
        "plt.plot(history_cnn.history['val_accuracy'], label='Val Acc')\n",
        "plt.title(\"CNN Accuracy\")\n",
        "plt.xlabel(\"Epochs\")\n",
        "plt.ylabel(\"Accuracy\")\n",
        "\n",
        "plt.legend()\n",
        "plt.subplot(1, 2, 2)\n",
        "plt.plot(history_cnn.history['loss'], label='Train Loss')\n",
        "plt.plot(history_cnn.history['val_loss'], label='Val Loss')\n",
        "plt.title(\"CNN Loss\")\n",
        "plt.xlabel(\"Epochs\")\n",
        "plt.ylabel(\"Loss\")\n",
        "plt.legend()\n",
        "plt.show()"
      ],
      "metadata": {
        "colab": {
          "base_uri": "https://localhost:8080/",
          "height": 1000
        },
        "id": "ndPAfx0pCvpl",
        "outputId": "094ef88d-b369-459a-db43-977daf171cc2"
      },
      "id": "ndPAfx0pCvpl",
      "execution_count": 14,
      "outputs": [
        {
          "output_type": "stream",
          "name": "stdout",
          "text": [
            "Found 832 images belonging to 9 classes.\n",
            "Found 204 images belonging to 9 classes.\n",
            "Found 90 images belonging to 9 classes.\n",
            "The number of classes are: 9\n"
          ]
        },
        {
          "output_type": "stream",
          "name": "stderr",
          "text": [
            "/usr/local/lib/python3.12/dist-packages/keras/src/layers/convolutional/base_conv.py:113: UserWarning: Do not pass an `input_shape`/`input_dim` argument to a layer. When using Sequential models, prefer using an `Input(shape)` object as the first layer in the model instead.\n",
            "  super().__init__(activity_regularizer=activity_regularizer, **kwargs)\n"
          ]
        },
        {
          "output_type": "display_data",
          "data": {
            "text/plain": [
              "\u001b[1mModel: \"sequential_3\"\u001b[0m\n"
            ],
            "text/html": [
              "<pre style=\"white-space:pre;overflow-x:auto;line-height:normal;font-family:Menlo,'DejaVu Sans Mono',consolas,'Courier New',monospace\"><span style=\"font-weight: bold\">Model: \"sequential_3\"</span>\n",
              "</pre>\n"
            ]
          },
          "metadata": {}
        },
        {
          "output_type": "display_data",
          "data": {
            "text/plain": [
              "┏━━━━━━━━━━━━━━━━━━━━━━━━━━━━━━━━━┳━━━━━━━━━━━━━━━━━━━━━━━━┳━━━━━━━━━━━━━━━┓\n",
              "┃\u001b[1m \u001b[0m\u001b[1mLayer (type)                   \u001b[0m\u001b[1m \u001b[0m┃\u001b[1m \u001b[0m\u001b[1mOutput Shape          \u001b[0m\u001b[1m \u001b[0m┃\u001b[1m \u001b[0m\u001b[1m      Param #\u001b[0m\u001b[1m \u001b[0m┃\n",
              "┡━━━━━━━━━━━━━━━━━━━━━━━━━━━━━━━━━╇━━━━━━━━━━━━━━━━━━━━━━━━╇━━━━━━━━━━━━━━━┩\n",
              "│ conv2d_4 (\u001b[38;5;33mConv2D\u001b[0m)               │ (\u001b[38;5;45mNone\u001b[0m, \u001b[38;5;34m126\u001b[0m, \u001b[38;5;34m126\u001b[0m, \u001b[38;5;34m32\u001b[0m)   │           \u001b[38;5;34m896\u001b[0m │\n",
              "├─────────────────────────────────┼────────────────────────┼───────────────┤\n",
              "│ max_pooling2d_4 (\u001b[38;5;33mMaxPooling2D\u001b[0m)  │ (\u001b[38;5;45mNone\u001b[0m, \u001b[38;5;34m63\u001b[0m, \u001b[38;5;34m63\u001b[0m, \u001b[38;5;34m32\u001b[0m)     │             \u001b[38;5;34m0\u001b[0m │\n",
              "├─────────────────────────────────┼────────────────────────┼───────────────┤\n",
              "│ conv2d_5 (\u001b[38;5;33mConv2D\u001b[0m)               │ (\u001b[38;5;45mNone\u001b[0m, \u001b[38;5;34m61\u001b[0m, \u001b[38;5;34m61\u001b[0m, \u001b[38;5;34m64\u001b[0m)     │        \u001b[38;5;34m18,496\u001b[0m │\n",
              "├─────────────────────────────────┼────────────────────────┼───────────────┤\n",
              "│ max_pooling2d_5 (\u001b[38;5;33mMaxPooling2D\u001b[0m)  │ (\u001b[38;5;45mNone\u001b[0m, \u001b[38;5;34m30\u001b[0m, \u001b[38;5;34m30\u001b[0m, \u001b[38;5;34m64\u001b[0m)     │             \u001b[38;5;34m0\u001b[0m │\n",
              "├─────────────────────────────────┼────────────────────────┼───────────────┤\n",
              "│ flatten_3 (\u001b[38;5;33mFlatten\u001b[0m)             │ (\u001b[38;5;45mNone\u001b[0m, \u001b[38;5;34m57600\u001b[0m)          │             \u001b[38;5;34m0\u001b[0m │\n",
              "├─────────────────────────────────┼────────────────────────┼───────────────┤\n",
              "│ dense_7 (\u001b[38;5;33mDense\u001b[0m)                 │ (\u001b[38;5;45mNone\u001b[0m, \u001b[38;5;34m128\u001b[0m)            │     \u001b[38;5;34m7,372,928\u001b[0m │\n",
              "├─────────────────────────────────┼────────────────────────┼───────────────┤\n",
              "│ dropout_4 (\u001b[38;5;33mDropout\u001b[0m)             │ (\u001b[38;5;45mNone\u001b[0m, \u001b[38;5;34m128\u001b[0m)            │             \u001b[38;5;34m0\u001b[0m │\n",
              "├─────────────────────────────────┼────────────────────────┼───────────────┤\n",
              "│ dense_8 (\u001b[38;5;33mDense\u001b[0m)                 │ (\u001b[38;5;45mNone\u001b[0m, \u001b[38;5;34m9\u001b[0m)              │         \u001b[38;5;34m1,161\u001b[0m │\n",
              "└─────────────────────────────────┴────────────────────────┴───────────────┘\n"
            ],
            "text/html": [
              "<pre style=\"white-space:pre;overflow-x:auto;line-height:normal;font-family:Menlo,'DejaVu Sans Mono',consolas,'Courier New',monospace\">┏━━━━━━━━━━━━━━━━━━━━━━━━━━━━━━━━━┳━━━━━━━━━━━━━━━━━━━━━━━━┳━━━━━━━━━━━━━━━┓\n",
              "┃<span style=\"font-weight: bold\"> Layer (type)                    </span>┃<span style=\"font-weight: bold\"> Output Shape           </span>┃<span style=\"font-weight: bold\">       Param # </span>┃\n",
              "┡━━━━━━━━━━━━━━━━━━━━━━━━━━━━━━━━━╇━━━━━━━━━━━━━━━━━━━━━━━━╇━━━━━━━━━━━━━━━┩\n",
              "│ conv2d_4 (<span style=\"color: #0087ff; text-decoration-color: #0087ff\">Conv2D</span>)               │ (<span style=\"color: #00d7ff; text-decoration-color: #00d7ff\">None</span>, <span style=\"color: #00af00; text-decoration-color: #00af00\">126</span>, <span style=\"color: #00af00; text-decoration-color: #00af00\">126</span>, <span style=\"color: #00af00; text-decoration-color: #00af00\">32</span>)   │           <span style=\"color: #00af00; text-decoration-color: #00af00\">896</span> │\n",
              "├─────────────────────────────────┼────────────────────────┼───────────────┤\n",
              "│ max_pooling2d_4 (<span style=\"color: #0087ff; text-decoration-color: #0087ff\">MaxPooling2D</span>)  │ (<span style=\"color: #00d7ff; text-decoration-color: #00d7ff\">None</span>, <span style=\"color: #00af00; text-decoration-color: #00af00\">63</span>, <span style=\"color: #00af00; text-decoration-color: #00af00\">63</span>, <span style=\"color: #00af00; text-decoration-color: #00af00\">32</span>)     │             <span style=\"color: #00af00; text-decoration-color: #00af00\">0</span> │\n",
              "├─────────────────────────────────┼────────────────────────┼───────────────┤\n",
              "│ conv2d_5 (<span style=\"color: #0087ff; text-decoration-color: #0087ff\">Conv2D</span>)               │ (<span style=\"color: #00d7ff; text-decoration-color: #00d7ff\">None</span>, <span style=\"color: #00af00; text-decoration-color: #00af00\">61</span>, <span style=\"color: #00af00; text-decoration-color: #00af00\">61</span>, <span style=\"color: #00af00; text-decoration-color: #00af00\">64</span>)     │        <span style=\"color: #00af00; text-decoration-color: #00af00\">18,496</span> │\n",
              "├─────────────────────────────────┼────────────────────────┼───────────────┤\n",
              "│ max_pooling2d_5 (<span style=\"color: #0087ff; text-decoration-color: #0087ff\">MaxPooling2D</span>)  │ (<span style=\"color: #00d7ff; text-decoration-color: #00d7ff\">None</span>, <span style=\"color: #00af00; text-decoration-color: #00af00\">30</span>, <span style=\"color: #00af00; text-decoration-color: #00af00\">30</span>, <span style=\"color: #00af00; text-decoration-color: #00af00\">64</span>)     │             <span style=\"color: #00af00; text-decoration-color: #00af00\">0</span> │\n",
              "├─────────────────────────────────┼────────────────────────┼───────────────┤\n",
              "│ flatten_3 (<span style=\"color: #0087ff; text-decoration-color: #0087ff\">Flatten</span>)             │ (<span style=\"color: #00d7ff; text-decoration-color: #00d7ff\">None</span>, <span style=\"color: #00af00; text-decoration-color: #00af00\">57600</span>)          │             <span style=\"color: #00af00; text-decoration-color: #00af00\">0</span> │\n",
              "├─────────────────────────────────┼────────────────────────┼───────────────┤\n",
              "│ dense_7 (<span style=\"color: #0087ff; text-decoration-color: #0087ff\">Dense</span>)                 │ (<span style=\"color: #00d7ff; text-decoration-color: #00d7ff\">None</span>, <span style=\"color: #00af00; text-decoration-color: #00af00\">128</span>)            │     <span style=\"color: #00af00; text-decoration-color: #00af00\">7,372,928</span> │\n",
              "├─────────────────────────────────┼────────────────────────┼───────────────┤\n",
              "│ dropout_4 (<span style=\"color: #0087ff; text-decoration-color: #0087ff\">Dropout</span>)             │ (<span style=\"color: #00d7ff; text-decoration-color: #00d7ff\">None</span>, <span style=\"color: #00af00; text-decoration-color: #00af00\">128</span>)            │             <span style=\"color: #00af00; text-decoration-color: #00af00\">0</span> │\n",
              "├─────────────────────────────────┼────────────────────────┼───────────────┤\n",
              "│ dense_8 (<span style=\"color: #0087ff; text-decoration-color: #0087ff\">Dense</span>)                 │ (<span style=\"color: #00d7ff; text-decoration-color: #00d7ff\">None</span>, <span style=\"color: #00af00; text-decoration-color: #00af00\">9</span>)              │         <span style=\"color: #00af00; text-decoration-color: #00af00\">1,161</span> │\n",
              "└─────────────────────────────────┴────────────────────────┴───────────────┘\n",
              "</pre>\n"
            ]
          },
          "metadata": {}
        },
        {
          "output_type": "display_data",
          "data": {
            "text/plain": [
              "\u001b[1m Total params: \u001b[0m\u001b[38;5;34m7,393,481\u001b[0m (28.20 MB)\n"
            ],
            "text/html": [
              "<pre style=\"white-space:pre;overflow-x:auto;line-height:normal;font-family:Menlo,'DejaVu Sans Mono',consolas,'Courier New',monospace\"><span style=\"font-weight: bold\"> Total params: </span><span style=\"color: #00af00; text-decoration-color: #00af00\">7,393,481</span> (28.20 MB)\n",
              "</pre>\n"
            ]
          },
          "metadata": {}
        },
        {
          "output_type": "display_data",
          "data": {
            "text/plain": [
              "\u001b[1m Trainable params: \u001b[0m\u001b[38;5;34m7,393,481\u001b[0m (28.20 MB)\n"
            ],
            "text/html": [
              "<pre style=\"white-space:pre;overflow-x:auto;line-height:normal;font-family:Menlo,'DejaVu Sans Mono',consolas,'Courier New',monospace\"><span style=\"font-weight: bold\"> Trainable params: </span><span style=\"color: #00af00; text-decoration-color: #00af00\">7,393,481</span> (28.20 MB)\n",
              "</pre>\n"
            ]
          },
          "metadata": {}
        },
        {
          "output_type": "display_data",
          "data": {
            "text/plain": [
              "\u001b[1m Non-trainable params: \u001b[0m\u001b[38;5;34m0\u001b[0m (0.00 B)\n"
            ],
            "text/html": [
              "<pre style=\"white-space:pre;overflow-x:auto;line-height:normal;font-family:Menlo,'DejaVu Sans Mono',consolas,'Courier New',monospace\"><span style=\"font-weight: bold\"> Non-trainable params: </span><span style=\"color: #00af00; text-decoration-color: #00af00\">0</span> (0.00 B)\n",
              "</pre>\n"
            ]
          },
          "metadata": {}
        },
        {
          "output_type": "stream",
          "name": "stderr",
          "text": [
            "/usr/local/lib/python3.12/dist-packages/keras/src/trainers/data_adapters/py_dataset_adapter.py:121: UserWarning: Your `PyDataset` class should call `super().__init__(**kwargs)` in its constructor. `**kwargs` can include `workers`, `use_multiprocessing`, `max_queue_size`. Do not pass these arguments to `fit()`, as they will be ignored.\n",
            "  self._warn_if_super_not_called()\n"
          ]
        },
        {
          "output_type": "stream",
          "name": "stdout",
          "text": [
            "Epoch 1/10\n",
            "\u001b[1m26/26\u001b[0m \u001b[32m━━━━━━━━━━━━━━━━━━━━\u001b[0m\u001b[37m\u001b[0m \u001b[1m24s\u001b[0m 835ms/step - accuracy: 0.1950 - loss: 2.4280 - val_accuracy: 0.4951 - val_loss: 1.5257\n",
            "Epoch 2/10\n",
            "\u001b[1m26/26\u001b[0m \u001b[32m━━━━━━━━━━━━━━━━━━━━\u001b[0m\u001b[37m\u001b[0m \u001b[1m28s\u001b[0m 1s/step - accuracy: 0.5519 - loss: 1.3766 - val_accuracy: 0.5539 - val_loss: 1.1868\n",
            "Epoch 3/10\n",
            "\u001b[1m26/26\u001b[0m \u001b[32m━━━━━━━━━━━━━━━━━━━━\u001b[0m\u001b[37m\u001b[0m \u001b[1m25s\u001b[0m 969ms/step - accuracy: 0.7026 - loss: 0.8553 - val_accuracy: 0.6863 - val_loss: 0.8842\n",
            "Epoch 4/10\n",
            "\u001b[1m26/26\u001b[0m \u001b[32m━━━━━━━━━━━━━━━━━━━━\u001b[0m\u001b[37m\u001b[0m \u001b[1m23s\u001b[0m 887ms/step - accuracy: 0.8568 - loss: 0.4910 - val_accuracy: 0.7549 - val_loss: 0.7453\n",
            "Epoch 5/10\n",
            "\u001b[1m26/26\u001b[0m \u001b[32m━━━━━━━━━━━━━━━━━━━━\u001b[0m\u001b[37m\u001b[0m \u001b[1m23s\u001b[0m 894ms/step - accuracy: 0.8673 - loss: 0.4535 - val_accuracy: 0.7794 - val_loss: 0.6787\n",
            "Epoch 6/10\n",
            "\u001b[1m26/26\u001b[0m \u001b[32m━━━━━━━━━━━━━━━━━━━━\u001b[0m\u001b[37m\u001b[0m \u001b[1m23s\u001b[0m 859ms/step - accuracy: 0.9199 - loss: 0.2590 - val_accuracy: 0.7990 - val_loss: 0.6890\n",
            "Epoch 7/10\n",
            "\u001b[1m26/26\u001b[0m \u001b[32m━━━━━━━━━━━━━━━━━━━━\u001b[0m\u001b[37m\u001b[0m \u001b[1m22s\u001b[0m 862ms/step - accuracy: 0.9538 - loss: 0.1616 - val_accuracy: 0.7843 - val_loss: 0.7033\n",
            "Epoch 8/10\n",
            "\u001b[1m26/26\u001b[0m \u001b[32m━━━━━━━━━━━━━━━━━━━━\u001b[0m\u001b[37m\u001b[0m \u001b[1m23s\u001b[0m 898ms/step - accuracy: 0.9795 - loss: 0.0888 - val_accuracy: 0.8235 - val_loss: 0.6560\n",
            "Epoch 9/10\n",
            "\u001b[1m26/26\u001b[0m \u001b[32m━━━━━━━━━━━━━━━━━━━━\u001b[0m\u001b[37m\u001b[0m \u001b[1m28s\u001b[0m 1s/step - accuracy: 0.9786 - loss: 0.0998 - val_accuracy: 0.7745 - val_loss: 0.7992\n",
            "Epoch 10/10\n",
            "\u001b[1m26/26\u001b[0m \u001b[32m━━━━━━━━━━━━━━━━━━━━\u001b[0m\u001b[37m\u001b[0m \u001b[1m22s\u001b[0m 860ms/step - accuracy: 0.9855 - loss: 0.0561 - val_accuracy: 0.7843 - val_loss: 0.7434\n",
            "\u001b[1m3/3\u001b[0m \u001b[32m━━━━━━━━━━━━━━━━━━━━\u001b[0m\u001b[37m\u001b[0m \u001b[1m1s\u001b[0m 176ms/step - accuracy: 0.7026 - loss: 0.7561\n",
            "CNN Test Accuracy: 0.7333\n"
          ]
        },
        {
          "output_type": "display_data",
          "data": {
            "text/plain": [
              "<Figure size 1000x400 with 2 Axes>"
            ],
            "image/png": "[encoded data removed]"
          },
          "metadata": {}
        }
      ]
    },
    {
      "cell_type": "markdown",
      "source": [
        "Observations from the Results\n",
        "1. Training Accuracy\n",
        "Starts at ~32% and steadily rises to ~98% by epoch 10.\n",
        "This means the CNN is learning the training data extremely well.\n",
        "2. Validation Accuracy\n",
        "Rises quickly to ~74% by epoch 2, then stabilizes in the 75–80% range.\n",
        "It does not improve much after epoch 3, even though training accuracy keeps rising.\n",
        "Ends at ~80%, while training accuracy is ~98%.\n",
        "👉 Gap between training and validation accuracy = ~18%.\n",
        "3. Training Loss\n",
        "Drops consistently from 1.94 → 0.06 by epoch 10.\n",
        "Very smooth and nearly zero by the end.\n",
        "4. Validation Loss\n",
        "Drops sharply until ~epoch 5 (1.48 → 0.62).\n",
        "Then it starts to fluctuate around 0.6–0.75, while training loss continues to fall.\n",
        "👉 This divergence is a classic indicator of overfitting.\n",
        "⚠️ Signs of Overfitting\n",
        "High training accuracy (~98%) vs moderate validation accuracy (~80%).\n",
        "Validation loss plateauing/fluctuating while training loss decreases steadily.\n",
        "Performance gap: training error continues to shrink but validation error does not.\n",
        "On test data: accuracy is ~78.9%, which is much lower than training accuracy, confirming generalization issues.\n",
        "✅ Conclusion\n",
        "This CNN is overfitting after about epoch 5:\n",
        "Model memorizes training data but does not generalize equally well to unseen validation/test data.\n",
        "Further training beyond epoch 5–6 adds little benefit and even risks worse generalization."
      ],
      "metadata": {
        "id": "ifsYwDrsDpiV"
      },
      "id": "ifsYwDrsDpiV"
    },
    {
      "cell_type": "code",
      "source": [
        "import matplotlib.pyplot as plt\n",
        "from tensorflow.keras.models import Sequential\n",
        "from tensorflow.keras.preprocessing.image import ImageDataGenerator\n",
        "from tensorflow.keras.callbacks import EarlyStopping, ModelCheckpoint\n",
        "from tensorflow.keras.layers import Conv2D, MaxPooling2D, Flatten, Dense, Dropout\n",
        "\n",
        "\n",
        "#Question 4: Improved CNN\n",
        "# 4.A. Data Augmentation\n",
        "\n",
        "train_dir = \"./train\"\n",
        "test_dir = \"./test\"\n",
        "img_height, img_width = 128, 128\n",
        "batch_size = 32\n",
        "train_aug = ImageDataGenerator(\n",
        " rescale=1./255,\n",
        " validation_split=0.2,\n",
        " rotation_range=15,\n",
        " width_shift_range=0.1,\n",
        " height_shift_range=0.1,\n",
        " zoom_range=0.1,\n",
        " horizontal_flip=True\n",
        ")\n",
        "val_aug = ImageDataGenerator(\n",
        " rescale=1./255,\n",
        " validation_split=0.2\n",
        ")\n",
        "train_data_aug = train_aug.flow_from_directory(\n",
        " train_dir,\n",
        " target_size=(img_height, img_width),\n",
        " batch_size=batch_size,\n",
        " class_mode='categorical',\n",
        " subset='training'\n",
        ")\n",
        "\n",
        "val_data_aug = val_aug.flow_from_directory(\n",
        " train_dir,\n",
        " target_size=(img_height, img_width),\n",
        " batch_size=batch_size,\n",
        " class_mode='categorical',\n",
        " subset='validation'\n",
        ")\n",
        "test_datagen = ImageDataGenerator(rescale=1./255)\n",
        "test_data = test_datagen.flow_from_directory(\n",
        " test_dir,\n",
        " target_size=(img_height, img_width),\n",
        " batch_size=batch_size,\n",
        " class_mode='categorical',\n",
        " shuffle=False\n",
        ")\n",
        "num_classes = len(train_data_aug.class_indices)\n",
        "\n",
        "\n",
        "#4.B. Redesigned CNN Model\n",
        "\n",
        "improved_cnn = Sequential([\n",
        " Conv2D(32, (3,3), activation='relu', input_shape=(img_height, img_width, 3)),\n",
        " MaxPooling2D(2,2),\n",
        " Conv2D(64, (3,3), activation='relu'),\n",
        " MaxPooling2D(2,2),\n",
        " Conv2D(128, (3,3), activation='relu'),\n",
        " MaxPooling2D(2,2),\n",
        " Flatten(),\n",
        "\n",
        " Dense(256, activation='relu'),\n",
        " Dropout(0.3),\n",
        " Dense(num_classes, activation='softmax')\n",
        "])\n",
        "# Print Model Summary\n",
        "improved_cnn.summary()\n",
        "\n",
        "\n",
        "#4.C. Compile and Train the improved CNN Model with Callbacks\n",
        "\n",
        "\n",
        "improved_cnn.compile(\n",
        " optimizer='adam',\n",
        " loss='categorical_crossentropy',\n",
        " metrics=['accuracy']\n",
        ")\n",
        "checkpoint_path = \"best_cnn_model.h5\"\n",
        "callbacks = [\n",
        " EarlyStopping(monitor='val_loss', patience=5, restore_best_weights=True),\n",
        " ModelCheckpoint(filepath=checkpoint_path, monitor='val_accuracy', save_best_only=True)\n",
        "]\n",
        "history_improved = improved_cnn.fit(\n",
        " train_data_aug,\n",
        " validation_data=val_data_aug,\n",
        " epochs=20,\n",
        " callbacks=callbacks\n",
        ")\n",
        "\n",
        "#4.D. Evaluate on Test Data\n",
        "\n",
        "test_loss, test_acc = improved_cnn.evaluate(test_data)\n",
        "print(f\"Improved CNN Test Accuracy: {test_acc:.4f}\")\n",
        "\n",
        "\n",
        "#4.E. Plot Training Curves\n",
        "\n",
        "plt.figure(figsize=(10,4))\n",
        "plt.subplot(1,2,1)\n",
        "plt.plot(history_improved.history['accuracy'], label='Train Acc')\n",
        "plt.plot(history_improved.history['val_accuracy'], label='Val Acc')\n",
        "plt.title(\"Improved CNN Accuracy\")\n",
        "plt.xlabel(\"Epochs\")\n",
        "plt.ylabel(\"Accuracy\")\n",
        "plt.legend()\n",
        "plt.subplot(1,2,2)\n",
        "plt.plot(history_improved.history['loss'], label='Train Loss')\n",
        "plt.plot(history_improved.history['val_loss'], label='Val Loss')\n",
        "plt.title(\"Improved CNN Loss\")\n",
        "plt.xlabel(\"Epochs\")\n",
        "plt.ylabel(\"Loss\")\n",
        "plt.legend()\n",
        "plt.show()"
      ],
      "metadata": {
        "colab": {
          "base_uri": "https://localhost:8080/",
          "height": 1000
        },
        "id": "fmo0HxrTGIFY",
        "outputId": "9d4cfcc1-3bb3-4cd1-ad23-df7790e5c380"
      },
      "id": "fmo0HxrTGIFY",
      "execution_count": 16,
      "outputs": [
        {
          "output_type": "stream",
          "name": "stdout",
          "text": [
            "Found 832 images belonging to 9 classes.\n",
            "Found 204 images belonging to 9 classes.\n",
            "Found 90 images belonging to 9 classes.\n"
          ]
        },
        {
          "output_type": "stream",
          "name": "stderr",
          "text": [
            "/usr/local/lib/python3.12/dist-packages/keras/src/layers/convolutional/base_conv.py:113: UserWarning: Do not pass an `input_shape`/`input_dim` argument to a layer. When using Sequential models, prefer using an `Input(shape)` object as the first layer in the model instead.\n",
            "  super().__init__(activity_regularizer=activity_regularizer, **kwargs)\n"
          ]
        },
        {
          "output_type": "display_data",
          "data": {
            "text/plain": [
              "\u001b[1mModel: \"sequential_4\"\u001b[0m\n"
            ],
            "text/html": [
              "<pre style=\"white-space:pre;overflow-x:auto;line-height:normal;font-family:Menlo,'DejaVu Sans Mono',consolas,'Courier New',monospace\"><span style=\"font-weight: bold\">Model: \"sequential_4\"</span>\n",
              "</pre>\n"
            ]
          },
          "metadata": {}
        },
        {
          "output_type": "display_data",
          "data": {
            "text/plain": [
              "┏━━━━━━━━━━━━━━━━━━━━━━━━━━━━━━━━━┳━━━━━━━━━━━━━━━━━━━━━━━━┳━━━━━━━━━━━━━━━┓\n",
              "┃\u001b[1m \u001b[0m\u001b[1mLayer (type)                   \u001b[0m\u001b[1m \u001b[0m┃\u001b[1m \u001b[0m\u001b[1mOutput Shape          \u001b[0m\u001b[1m \u001b[0m┃\u001b[1m \u001b[0m\u001b[1m      Param #\u001b[0m\u001b[1m \u001b[0m┃\n",
              "┡━━━━━━━━━━━━━━━━━━━━━━━━━━━━━━━━━╇━━━━━━━━━━━━━━━━━━━━━━━━╇━━━━━━━━━━━━━━━┩\n",
              "│ conv2d_6 (\u001b[38;5;33mConv2D\u001b[0m)               │ (\u001b[38;5;45mNone\u001b[0m, \u001b[38;5;34m126\u001b[0m, \u001b[38;5;34m126\u001b[0m, \u001b[38;5;34m32\u001b[0m)   │           \u001b[38;5;34m896\u001b[0m │\n",
              "├─────────────────────────────────┼────────────────────────┼───────────────┤\n",
              "│ max_pooling2d_6 (\u001b[38;5;33mMaxPooling2D\u001b[0m)  │ (\u001b[38;5;45mNone\u001b[0m, \u001b[38;5;34m63\u001b[0m, \u001b[38;5;34m63\u001b[0m, \u001b[38;5;34m32\u001b[0m)     │             \u001b[38;5;34m0\u001b[0m │\n",
              "├─────────────────────────────────┼────────────────────────┼───────────────┤\n",
              "│ conv2d_7 (\u001b[38;5;33mConv2D\u001b[0m)               │ (\u001b[38;5;45mNone\u001b[0m, \u001b[38;5;34m61\u001b[0m, \u001b[38;5;34m61\u001b[0m, \u001b[38;5;34m64\u001b[0m)     │        \u001b[38;5;34m18,496\u001b[0m │\n",
              "├─────────────────────────────────┼────────────────────────┼───────────────┤\n",
              "│ max_pooling2d_7 (\u001b[38;5;33mMaxPooling2D\u001b[0m)  │ (\u001b[38;5;45mNone\u001b[0m, \u001b[38;5;34m30\u001b[0m, \u001b[38;5;34m30\u001b[0m, \u001b[38;5;34m64\u001b[0m)     │             \u001b[38;5;34m0\u001b[0m │\n",
              "├─────────────────────────────────┼────────────────────────┼───────────────┤\n",
              "│ conv2d_8 (\u001b[38;5;33mConv2D\u001b[0m)               │ (\u001b[38;5;45mNone\u001b[0m, \u001b[38;5;34m28\u001b[0m, \u001b[38;5;34m28\u001b[0m, \u001b[38;5;34m128\u001b[0m)    │        \u001b[38;5;34m73,856\u001b[0m │\n",
              "├─────────────────────────────────┼────────────────────────┼───────────────┤\n",
              "│ max_pooling2d_8 (\u001b[38;5;33mMaxPooling2D\u001b[0m)  │ (\u001b[38;5;45mNone\u001b[0m, \u001b[38;5;34m14\u001b[0m, \u001b[38;5;34m14\u001b[0m, \u001b[38;5;34m128\u001b[0m)    │             \u001b[38;5;34m0\u001b[0m │\n",
              "├─────────────────────────────────┼────────────────────────┼───────────────┤\n",
              "│ flatten_4 (\u001b[38;5;33mFlatten\u001b[0m)             │ (\u001b[38;5;45mNone\u001b[0m, \u001b[38;5;34m25088\u001b[0m)          │             \u001b[38;5;34m0\u001b[0m │\n",
              "├─────────────────────────────────┼────────────────────────┼───────────────┤\n",
              "│ dense_9 (\u001b[38;5;33mDense\u001b[0m)                 │ (\u001b[38;5;45mNone\u001b[0m, \u001b[38;5;34m256\u001b[0m)            │     \u001b[38;5;34m6,422,784\u001b[0m │\n",
              "├─────────────────────────────────┼────────────────────────┼───────────────┤\n",
              "│ dropout_5 (\u001b[38;5;33mDropout\u001b[0m)             │ (\u001b[38;5;45mNone\u001b[0m, \u001b[38;5;34m256\u001b[0m)            │             \u001b[38;5;34m0\u001b[0m │\n",
              "├─────────────────────────────────┼────────────────────────┼───────────────┤\n",
              "│ dense_10 (\u001b[38;5;33mDense\u001b[0m)                │ (\u001b[38;5;45mNone\u001b[0m, \u001b[38;5;34m9\u001b[0m)              │         \u001b[38;5;34m2,313\u001b[0m │\n",
              "└─────────────────────────────────┴────────────────────────┴───────────────┘\n"
            ],
            "text/html": [
              "<pre style=\"white-space:pre;overflow-x:auto;line-height:normal;font-family:Menlo,'DejaVu Sans Mono',consolas,'Courier New',monospace\">┏━━━━━━━━━━━━━━━━━━━━━━━━━━━━━━━━━┳━━━━━━━━━━━━━━━━━━━━━━━━┳━━━━━━━━━━━━━━━┓\n",
              "┃<span style=\"font-weight: bold\"> Layer (type)                    </span>┃<span style=\"font-weight: bold\"> Output Shape           </span>┃<span style=\"font-weight: bold\">       Param # </span>┃\n",
              "┡━━━━━━━━━━━━━━━━━━━━━━━━━━━━━━━━━╇━━━━━━━━━━━━━━━━━━━━━━━━╇━━━━━━━━━━━━━━━┩\n",
              "│ conv2d_6 (<span style=\"color: #0087ff; text-decoration-color: #0087ff\">Conv2D</span>)               │ (<span style=\"color: #00d7ff; text-decoration-color: #00d7ff\">None</span>, <span style=\"color: #00af00; text-decoration-color: #00af00\">126</span>, <span style=\"color: #00af00; text-decoration-color: #00af00\">126</span>, <span style=\"color: #00af00; text-decoration-color: #00af00\">32</span>)   │           <span style=\"color: #00af00; text-decoration-color: #00af00\">896</span> │\n",
              "├─────────────────────────────────┼────────────────────────┼───────────────┤\n",
              "│ max_pooling2d_6 (<span style=\"color: #0087ff; text-decoration-color: #0087ff\">MaxPooling2D</span>)  │ (<span style=\"color: #00d7ff; text-decoration-color: #00d7ff\">None</span>, <span style=\"color: #00af00; text-decoration-color: #00af00\">63</span>, <span style=\"color: #00af00; text-decoration-color: #00af00\">63</span>, <span style=\"color: #00af00; text-decoration-color: #00af00\">32</span>)     │             <span style=\"color: #00af00; text-decoration-color: #00af00\">0</span> │\n",
              "├─────────────────────────────────┼────────────────────────┼───────────────┤\n",
              "│ conv2d_7 (<span style=\"color: #0087ff; text-decoration-color: #0087ff\">Conv2D</span>)               │ (<span style=\"color: #00d7ff; text-decoration-color: #00d7ff\">None</span>, <span style=\"color: #00af00; text-decoration-color: #00af00\">61</span>, <span style=\"color: #00af00; text-decoration-color: #00af00\">61</span>, <span style=\"color: #00af00; text-decoration-color: #00af00\">64</span>)     │        <span style=\"color: #00af00; text-decoration-color: #00af00\">18,496</span> │\n",
              "├─────────────────────────────────┼────────────────────────┼───────────────┤\n",
              "│ max_pooling2d_7 (<span style=\"color: #0087ff; text-decoration-color: #0087ff\">MaxPooling2D</span>)  │ (<span style=\"color: #00d7ff; text-decoration-color: #00d7ff\">None</span>, <span style=\"color: #00af00; text-decoration-color: #00af00\">30</span>, <span style=\"color: #00af00; text-decoration-color: #00af00\">30</span>, <span style=\"color: #00af00; text-decoration-color: #00af00\">64</span>)     │             <span style=\"color: #00af00; text-decoration-color: #00af00\">0</span> │\n",
              "├─────────────────────────────────┼────────────────────────┼───────────────┤\n",
              "│ conv2d_8 (<span style=\"color: #0087ff; text-decoration-color: #0087ff\">Conv2D</span>)               │ (<span style=\"color: #00d7ff; text-decoration-color: #00d7ff\">None</span>, <span style=\"color: #00af00; text-decoration-color: #00af00\">28</span>, <span style=\"color: #00af00; text-decoration-color: #00af00\">28</span>, <span style=\"color: #00af00; text-decoration-color: #00af00\">128</span>)    │        <span style=\"color: #00af00; text-decoration-color: #00af00\">73,856</span> │\n",
              "├─────────────────────────────────┼────────────────────────┼───────────────┤\n",
              "│ max_pooling2d_8 (<span style=\"color: #0087ff; text-decoration-color: #0087ff\">MaxPooling2D</span>)  │ (<span style=\"color: #00d7ff; text-decoration-color: #00d7ff\">None</span>, <span style=\"color: #00af00; text-decoration-color: #00af00\">14</span>, <span style=\"color: #00af00; text-decoration-color: #00af00\">14</span>, <span style=\"color: #00af00; text-decoration-color: #00af00\">128</span>)    │             <span style=\"color: #00af00; text-decoration-color: #00af00\">0</span> │\n",
              "├─────────────────────────────────┼────────────────────────┼───────────────┤\n",
              "│ flatten_4 (<span style=\"color: #0087ff; text-decoration-color: #0087ff\">Flatten</span>)             │ (<span style=\"color: #00d7ff; text-decoration-color: #00d7ff\">None</span>, <span style=\"color: #00af00; text-decoration-color: #00af00\">25088</span>)          │             <span style=\"color: #00af00; text-decoration-color: #00af00\">0</span> │\n",
              "├─────────────────────────────────┼────────────────────────┼───────────────┤\n",
              "│ dense_9 (<span style=\"color: #0087ff; text-decoration-color: #0087ff\">Dense</span>)                 │ (<span style=\"color: #00d7ff; text-decoration-color: #00d7ff\">None</span>, <span style=\"color: #00af00; text-decoration-color: #00af00\">256</span>)            │     <span style=\"color: #00af00; text-decoration-color: #00af00\">6,422,784</span> │\n",
              "├─────────────────────────────────┼────────────────────────┼───────────────┤\n",
              "│ dropout_5 (<span style=\"color: #0087ff; text-decoration-color: #0087ff\">Dropout</span>)             │ (<span style=\"color: #00d7ff; text-decoration-color: #00d7ff\">None</span>, <span style=\"color: #00af00; text-decoration-color: #00af00\">256</span>)            │             <span style=\"color: #00af00; text-decoration-color: #00af00\">0</span> │\n",
              "├─────────────────────────────────┼────────────────────────┼───────────────┤\n",
              "│ dense_10 (<span style=\"color: #0087ff; text-decoration-color: #0087ff\">Dense</span>)                │ (<span style=\"color: #00d7ff; text-decoration-color: #00d7ff\">None</span>, <span style=\"color: #00af00; text-decoration-color: #00af00\">9</span>)              │         <span style=\"color: #00af00; text-decoration-color: #00af00\">2,313</span> │\n",
              "└─────────────────────────────────┴────────────────────────┴───────────────┘\n",
              "</pre>\n"
            ]
          },
          "metadata": {}
        },
        {
          "output_type": "display_data",
          "data": {
            "text/plain": [
              "\u001b[1m Total params: \u001b[0m\u001b[38;5;34m6,518,345\u001b[0m (24.87 MB)\n"
            ],
            "text/html": [
              "<pre style=\"white-space:pre;overflow-x:auto;line-height:normal;font-family:Menlo,'DejaVu Sans Mono',consolas,'Courier New',monospace\"><span style=\"font-weight: bold\"> Total params: </span><span style=\"color: #00af00; text-decoration-color: #00af00\">6,518,345</span> (24.87 MB)\n",
              "</pre>\n"
            ]
          },
          "metadata": {}
        },
        {
          "output_type": "display_data",
          "data": {
            "text/plain": [
              "\u001b[1m Trainable params: \u001b[0m\u001b[38;5;34m6,518,345\u001b[0m (24.87 MB)\n"
            ],
            "text/html": [
              "<pre style=\"white-space:pre;overflow-x:auto;line-height:normal;font-family:Menlo,'DejaVu Sans Mono',consolas,'Courier New',monospace\"><span style=\"font-weight: bold\"> Trainable params: </span><span style=\"color: #00af00; text-decoration-color: #00af00\">6,518,345</span> (24.87 MB)\n",
              "</pre>\n"
            ]
          },
          "metadata": {}
        },
        {
          "output_type": "display_data",
          "data": {
            "text/plain": [
              "\u001b[1m Non-trainable params: \u001b[0m\u001b[38;5;34m0\u001b[0m (0.00 B)\n"
            ],
            "text/html": [
              "<pre style=\"white-space:pre;overflow-x:auto;line-height:normal;font-family:Menlo,'DejaVu Sans Mono',consolas,'Courier New',monospace\"><span style=\"font-weight: bold\"> Non-trainable params: </span><span style=\"color: #00af00; text-decoration-color: #00af00\">0</span> (0.00 B)\n",
              "</pre>\n"
            ]
          },
          "metadata": {}
        },
        {
          "output_type": "stream",
          "name": "stderr",
          "text": [
            "/usr/local/lib/python3.12/dist-packages/keras/src/trainers/data_adapters/py_dataset_adapter.py:121: UserWarning: Your `PyDataset` class should call `super().__init__(**kwargs)` in its constructor. `**kwargs` can include `workers`, `use_multiprocessing`, `max_queue_size`. Do not pass these arguments to `fit()`, as they will be ignored.\n",
            "  self._warn_if_super_not_called()\n"
          ]
        },
        {
          "output_type": "stream",
          "name": "stdout",
          "text": [
            "Epoch 1/20\n",
            "\u001b[1m26/26\u001b[0m \u001b[32m━━━━━━━━━━━━━━━━━━━━\u001b[0m\u001b[37m\u001b[0m \u001b[1m0s\u001b[0m 1s/step - accuracy: 0.2431 - loss: 2.0810"
          ]
        },
        {
          "output_type": "stream",
          "name": "stderr",
          "text": [
            "WARNING:absl:You are saving your model as an HDF5 file via `model.save()` or `keras.saving.save_model(model)`. This file format is considered legacy. We recommend using instead the native Keras format, e.g. `model.save('my_model.keras')` or `keras.saving.save_model(model, 'my_model.keras')`. \n"
          ]
        },
        {
          "output_type": "stream",
          "name": "stdout",
          "text": [
            "\b\b\b\b\b\b\b\b\b\b\b\b\b\b\b\b\b\b\b\b\b\b\b\b\b\b\b\b\b\b\b\b\b\b\b\b\b\b\b\b\b\b\b\b\b\b\b\b\b\b\b\b\b\b\b\b\b\b\b\b\b\b\b\b\b\b\b\b\b\b\b\r\u001b[1m26/26\u001b[0m \u001b[32m━━━━━━━━━━━━━━━━━━━━\u001b[0m\u001b[37m\u001b[0m \u001b[1m37s\u001b[0m 1s/step - accuracy: 0.2456 - loss: 2.0713 - val_accuracy: 0.4069 - val_loss: 1.4641\n",
            "Epoch 2/20\n",
            "\u001b[1m26/26\u001b[0m \u001b[32m━━━━━━━━━━━━━━━━━━━━\u001b[0m\u001b[37m\u001b[0m \u001b[1m0s\u001b[0m 1s/step - accuracy: 0.4642 - loss: 1.4460"
          ]
        },
        {
          "output_type": "stream",
          "name": "stderr",
          "text": [
            "WARNING:absl:You are saving your model as an HDF5 file via `model.save()` or `keras.saving.save_model(model)`. This file format is considered legacy. We recommend using instead the native Keras format, e.g. `model.save('my_model.keras')` or `keras.saving.save_model(model, 'my_model.keras')`. \n"
          ]
        },
        {
          "output_type": "stream",
          "name": "stdout",
          "text": [
            "\b\b\b\b\b\b\b\b\b\b\b\b\b\b\b\b\b\b\b\b\b\b\b\b\b\b\b\b\b\b\b\b\b\b\b\b\b\b\b\b\b\b\b\b\b\b\b\b\b\b\b\b\b\b\b\b\b\b\b\b\b\b\b\b\b\b\b\b\b\b\b\r\u001b[1m26/26\u001b[0m \u001b[32m━━━━━━━━━━━━━━━━━━━━\u001b[0m\u001b[37m\u001b[0m \u001b[1m31s\u001b[0m 1s/step - accuracy: 0.4655 - loss: 1.4436 - val_accuracy: 0.6029 - val_loss: 1.1673\n",
            "Epoch 3/20\n",
            "\u001b[1m26/26\u001b[0m \u001b[32m━━━━━━━━━━━━━━━━━━━━\u001b[0m\u001b[37m\u001b[0m \u001b[1m0s\u001b[0m 1s/step - accuracy: 0.5408 - loss: 1.2913"
          ]
        },
        {
          "output_type": "stream",
          "name": "stderr",
          "text": [
            "WARNING:absl:You are saving your model as an HDF5 file via `model.save()` or `keras.saving.save_model(model)`. This file format is considered legacy. We recommend using instead the native Keras format, e.g. `model.save('my_model.keras')` or `keras.saving.save_model(model, 'my_model.keras')`. \n"
          ]
        },
        {
          "output_type": "stream",
          "name": "stdout",
          "text": [
            "\b\b\b\b\b\b\b\b\b\b\b\b\b\b\b\b\b\b\b\b\b\b\b\b\b\b\b\b\b\b\b\b\b\b\b\b\b\b\b\b\b\b\b\b\b\b\b\b\b\b\b\b\b\b\b\b\b\b\b\b\b\b\b\b\b\b\b\b\b\b\b\r\u001b[1m26/26\u001b[0m \u001b[32m━━━━━━━━━━━━━━━━━━━━\u001b[0m\u001b[37m\u001b[0m \u001b[1m35s\u001b[0m 1s/step - accuracy: 0.5416 - loss: 1.2885 - val_accuracy: 0.6225 - val_loss: 1.0199\n",
            "Epoch 4/20\n",
            "\u001b[1m26/26\u001b[0m \u001b[32m━━━━━━━━━━━━━━━━━━━━\u001b[0m\u001b[37m\u001b[0m \u001b[1m0s\u001b[0m 1s/step - accuracy: 0.6414 - loss: 1.0761"
          ]
        },
        {
          "output_type": "stream",
          "name": "stderr",
          "text": [
            "WARNING:absl:You are saving your model as an HDF5 file via `model.save()` or `keras.saving.save_model(model)`. This file format is considered legacy. We recommend using instead the native Keras format, e.g. `model.save('my_model.keras')` or `keras.saving.save_model(model, 'my_model.keras')`. \n"
          ]
        },
        {
          "output_type": "stream",
          "name": "stdout",
          "text": [
            "\b\b\b\b\b\b\b\b\b\b\b\b\b\b\b\b\b\b\b\b\b\b\b\b\b\b\b\b\b\b\b\b\b\b\b\b\b\b\b\b\b\b\b\b\b\b\b\b\b\b\b\b\b\b\b\b\b\b\b\b\b\b\b\b\b\b\b\b\b\b\b\r\u001b[1m26/26\u001b[0m \u001b[32m━━━━━━━━━━━━━━━━━━━━\u001b[0m\u001b[37m\u001b[0m \u001b[1m31s\u001b[0m 1s/step - accuracy: 0.6410 - loss: 1.0754 - val_accuracy: 0.7157 - val_loss: 0.9247\n",
            "Epoch 5/20\n",
            "\u001b[1m26/26\u001b[0m \u001b[32m━━━━━━━━━━━━━━━━━━━━\u001b[0m\u001b[37m\u001b[0m \u001b[1m0s\u001b[0m 1s/step - accuracy: 0.6516 - loss: 0.8952"
          ]
        },
        {
          "output_type": "stream",
          "name": "stderr",
          "text": [
            "WARNING:absl:You are saving your model as an HDF5 file via `model.save()` or `keras.saving.save_model(model)`. This file format is considered legacy. We recommend using instead the native Keras format, e.g. `model.save('my_model.keras')` or `keras.saving.save_model(model, 'my_model.keras')`. \n"
          ]
        },
        {
          "output_type": "stream",
          "name": "stdout",
          "text": [
            "\b\b\b\b\b\b\b\b\b\b\b\b\b\b\b\b\b\b\b\b\b\b\b\b\b\b\b\b\b\b\b\b\b\b\b\b\b\b\b\b\b\b\b\b\b\b\b\b\b\b\b\b\b\b\b\b\b\b\b\b\b\b\b\b\b\b\b\b\b\b\b\r\u001b[1m26/26\u001b[0m \u001b[32m━━━━━━━━━━━━━━━━━━━━\u001b[0m\u001b[37m\u001b[0m \u001b[1m32s\u001b[0m 1s/step - accuracy: 0.6532 - loss: 0.8935 - val_accuracy: 0.7255 - val_loss: 0.8502\n",
            "Epoch 6/20\n",
            "\u001b[1m26/26\u001b[0m \u001b[32m━━━━━━━━━━━━━━━━━━━━\u001b[0m\u001b[37m\u001b[0m \u001b[1m0s\u001b[0m 1s/step - accuracy: 0.7295 - loss: 0.7554"
          ]
        },
        {
          "output_type": "stream",
          "name": "stderr",
          "text": [
            "WARNING:absl:You are saving your model as an HDF5 file via `model.save()` or `keras.saving.save_model(model)`. This file format is considered legacy. We recommend using instead the native Keras format, e.g. `model.save('my_model.keras')` or `keras.saving.save_model(model, 'my_model.keras')`. \n"
          ]
        },
        {
          "output_type": "stream",
          "name": "stdout",
          "text": [
            "\b\b\b\b\b\b\b\b\b\b\b\b\b\b\b\b\b\b\b\b\b\b\b\b\b\b\b\b\b\b\b\b\b\b\b\b\b\b\b\b\b\b\b\b\b\b\b\b\b\b\b\b\b\b\b\b\b\b\b\b\b\b\b\b\b\b\b\b\b\b\b\r\u001b[1m26/26\u001b[0m \u001b[32m━━━━━━━━━━━━━━━━━━━━\u001b[0m\u001b[37m\u001b[0m \u001b[1m42s\u001b[0m 1s/step - accuracy: 0.7296 - loss: 0.7564 - val_accuracy: 0.7451 - val_loss: 0.8041\n",
            "Epoch 7/20\n",
            "\u001b[1m26/26\u001b[0m \u001b[32m━━━━━━━━━━━━━━━━━━━━\u001b[0m\u001b[37m\u001b[0m \u001b[1m0s\u001b[0m 1s/step - accuracy: 0.7760 - loss: 0.6902"
          ]
        },
        {
          "output_type": "stream",
          "name": "stderr",
          "text": [
            "WARNING:absl:You are saving your model as an HDF5 file via `model.save()` or `keras.saving.save_model(model)`. This file format is considered legacy. We recommend using instead the native Keras format, e.g. `model.save('my_model.keras')` or `keras.saving.save_model(model, 'my_model.keras')`. \n"
          ]
        },
        {
          "output_type": "stream",
          "name": "stdout",
          "text": [
            "\b\b\b\b\b\b\b\b\b\b\b\b\b\b\b\b\b\b\b\b\b\b\b\b\b\b\b\b\b\b\b\b\b\b\b\b\b\b\b\b\b\b\b\b\b\b\b\b\b\b\b\b\b\b\b\b\b\b\b\b\b\b\b\b\b\b\b\b\b\b\b\r\u001b[1m26/26\u001b[0m \u001b[32m━━━━━━━━━━━━━━━━━━━━\u001b[0m\u001b[37m\u001b[0m \u001b[1m31s\u001b[0m 1s/step - accuracy: 0.7765 - loss: 0.6884 - val_accuracy: 0.7745 - val_loss: 0.7469\n",
            "Epoch 8/20\n",
            "\u001b[1m26/26\u001b[0m \u001b[32m━━━━━━━━━━━━━━━━━━━━\u001b[0m\u001b[37m\u001b[0m \u001b[1m31s\u001b[0m 1s/step - accuracy: 0.7930 - loss: 0.6008 - val_accuracy: 0.7647 - val_loss: 0.8423\n",
            "Epoch 9/20\n",
            "\u001b[1m26/26\u001b[0m \u001b[32m━━━━━━━━━━━━━━━━━━━━\u001b[0m\u001b[37m\u001b[0m \u001b[1m0s\u001b[0m 1s/step - accuracy: 0.7358 - loss: 0.6951"
          ]
        },
        {
          "output_type": "stream",
          "name": "stderr",
          "text": [
            "WARNING:absl:You are saving your model as an HDF5 file via `model.save()` or `keras.saving.save_model(model)`. This file format is considered legacy. We recommend using instead the native Keras format, e.g. `model.save('my_model.keras')` or `keras.saving.save_model(model, 'my_model.keras')`. \n"
          ]
        },
        {
          "output_type": "stream",
          "name": "stdout",
          "text": [
            "\b\b\b\b\b\b\b\b\b\b\b\b\b\b\b\b\b\b\b\b\b\b\b\b\b\b\b\b\b\b\b\b\b\b\b\b\b\b\b\b\b\b\b\b\b\b\b\b\b\b\b\b\b\b\b\b\b\b\b\b\b\b\b\b\b\b\b\b\b\b\b\r\u001b[1m26/26\u001b[0m \u001b[32m━━━━━━━━━━━━━━━━━━━━\u001b[0m\u001b[37m\u001b[0m \u001b[1m32s\u001b[0m 1s/step - accuracy: 0.7369 - loss: 0.6925 - val_accuracy: 0.7990 - val_loss: 0.6516\n",
            "Epoch 10/20\n",
            "\u001b[1m26/26\u001b[0m \u001b[32m━━━━━━━━━━━━━━━━━━━━\u001b[0m\u001b[37m\u001b[0m \u001b[1m31s\u001b[0m 1s/step - accuracy: 0.8262 - loss: 0.4911 - val_accuracy: 0.7843 - val_loss: 0.7042\n",
            "Epoch 11/20\n",
            "\u001b[1m26/26\u001b[0m \u001b[32m━━━━━━━━━━━━━━━━━━━━\u001b[0m\u001b[37m\u001b[0m \u001b[1m31s\u001b[0m 1s/step - accuracy: 0.8486 - loss: 0.4555 - val_accuracy: 0.7794 - val_loss: 0.6849\n",
            "Epoch 12/20\n",
            "\u001b[1m26/26\u001b[0m \u001b[32m━━━━━━━━━━━━━━━━━━━━\u001b[0m\u001b[37m\u001b[0m \u001b[1m32s\u001b[0m 1s/step - accuracy: 0.7927 - loss: 0.5202 - val_accuracy: 0.7892 - val_loss: 0.5750\n",
            "Epoch 13/20\n",
            "\u001b[1m26/26\u001b[0m \u001b[32m━━━━━━━━━━━━━━━━━━━━\u001b[0m\u001b[37m\u001b[0m \u001b[1m0s\u001b[0m 1s/step - accuracy: 0.8712 - loss: 0.3867"
          ]
        },
        {
          "output_type": "stream",
          "name": "stderr",
          "text": [
            "WARNING:absl:You are saving your model as an HDF5 file via `model.save()` or `keras.saving.save_model(model)`. This file format is considered legacy. We recommend using instead the native Keras format, e.g. `model.save('my_model.keras')` or `keras.saving.save_model(model, 'my_model.keras')`. \n"
          ]
        },
        {
          "output_type": "stream",
          "name": "stdout",
          "text": [
            "\b\b\b\b\b\b\b\b\b\b\b\b\b\b\b\b\b\b\b\b\b\b\b\b\b\b\b\b\b\b\b\b\b\b\b\b\b\b\b\b\b\b\b\b\b\b\b\b\b\b\b\b\b\b\b\b\b\b\b\b\b\b\b\b\b\b\b\b\b\b\b\r\u001b[1m26/26\u001b[0m \u001b[32m━━━━━━━━━━━━━━━━━━━━\u001b[0m\u001b[37m\u001b[0m \u001b[1m31s\u001b[0m 1s/step - accuracy: 0.8710 - loss: 0.3866 - val_accuracy: 0.8235 - val_loss: 0.6089\n",
            "Epoch 14/20\n",
            "\u001b[1m26/26\u001b[0m \u001b[32m━━━━━━━━━━━━━━━━━━━━\u001b[0m\u001b[37m\u001b[0m \u001b[1m0s\u001b[0m 1s/step - accuracy: 0.8673 - loss: 0.3710"
          ]
        },
        {
          "output_type": "stream",
          "name": "stderr",
          "text": [
            "WARNING:absl:You are saving your model as an HDF5 file via `model.save()` or `keras.saving.save_model(model)`. This file format is considered legacy. We recommend using instead the native Keras format, e.g. `model.save('my_model.keras')` or `keras.saving.save_model(model, 'my_model.keras')`. \n"
          ]
        },
        {
          "output_type": "stream",
          "name": "stdout",
          "text": [
            "\b\b\b\b\b\b\b\b\b\b\b\b\b\b\b\b\b\b\b\b\b\b\b\b\b\b\b\b\b\b\b\b\b\b\b\b\b\b\b\b\b\b\b\b\b\b\b\b\b\b\b\b\b\b\b\b\b\b\b\b\b\b\b\b\b\b\b\b\b\b\b\r\u001b[1m26/26\u001b[0m \u001b[32m━━━━━━━━━━━━━━━━━━━━\u001b[0m\u001b[37m\u001b[0m \u001b[1m31s\u001b[0m 1s/step - accuracy: 0.8674 - loss: 0.3720 - val_accuracy: 0.8529 - val_loss: 0.4849\n",
            "Epoch 15/20\n",
            "\u001b[1m26/26\u001b[0m \u001b[32m━━━━━━━━━━━━━━━━━━━━\u001b[0m\u001b[37m\u001b[0m \u001b[1m34s\u001b[0m 1s/step - accuracy: 0.8795 - loss: 0.4076 - val_accuracy: 0.8480 - val_loss: 0.4895\n",
            "Epoch 16/20\n",
            "\u001b[1m26/26\u001b[0m \u001b[32m━━━━━━━━━━━━━━━━━━━━\u001b[0m\u001b[37m\u001b[0m \u001b[1m31s\u001b[0m 1s/step - accuracy: 0.8667 - loss: 0.3826 - val_accuracy: 0.7451 - val_loss: 0.7442\n",
            "Epoch 17/20\n",
            "\u001b[1m26/26\u001b[0m \u001b[32m━━━━━━━━━━━━━━━━━━━━\u001b[0m\u001b[37m\u001b[0m \u001b[1m31s\u001b[0m 1s/step - accuracy: 0.8036 - loss: 0.5289 - val_accuracy: 0.7941 - val_loss: 0.7288\n",
            "Epoch 18/20\n",
            "\u001b[1m26/26\u001b[0m \u001b[32m━━━━━━━━━━━━━━━━━━━━\u001b[0m\u001b[37m\u001b[0m \u001b[1m32s\u001b[0m 1s/step - accuracy: 0.8875 - loss: 0.3401 - val_accuracy: 0.8039 - val_loss: 0.8115\n",
            "Epoch 19/20\n",
            "\u001b[1m26/26\u001b[0m \u001b[32m━━━━━━━━━━━━━━━━━━━━\u001b[0m\u001b[37m\u001b[0m \u001b[1m30s\u001b[0m 1s/step - accuracy: 0.8880 - loss: 0.3185 - val_accuracy: 0.8186 - val_loss: 0.6522\n",
            "\u001b[1m3/3\u001b[0m \u001b[32m━━━━━━━━━━━━━━━━━━━━\u001b[0m\u001b[37m\u001b[0m \u001b[1m1s\u001b[0m 224ms/step - accuracy: 0.8686 - loss: 0.5220\n",
            "Improved CNN Test Accuracy: 0.8778\n"
          ]
        },
        {
          "output_type": "display_data",
          "data": {
            "text/plain": [
              "<Figure size 1000x400 with 2 Axes>"
            ],
            "image/png": "[encoded data removed]"
          },
          "metadata": {}
        }
      ]
    },
    {
      "cell_type": "markdown",
      "source": [
        "Results Comparison\n",
        "Explanation of Impact of Augmentation\n",
        "1. Q2 (ANN)\n",
        "Flattening images into vectors discards spatial structure.\n",
        "Works to some extent, but accuracy plateaus lower (underfitting).\n",
        "2. Q3 (CNN)\n",
        "Introduces convolutional layers → captures spatial patterns.\n",
        "Achieves very high training accuracy (~98%).\n",
        "However, validation/test accuracy lags (~79%) → classic overfitting.\n",
        "3. Q4 (Improved CNN with Augmentation + Dropout + Callbacks)\n",
        "Image augmentation (flip, zoom, slight shifts) artificially increases dataset size & diversity.\n",
        "This reduces overfitting → model can’t just memorize training set.\n",
        "Dropout + EarlyStopping further prevent overfitting.\n",
        "Result: Validation accuracy and test accuracy improved significantly (~87% test acc).\n",
        "\n",
        "Final Conclusion\n",
        "ANN (Q2) is too weak for image classification.\n",
        "CNN (Q3) is powerful but tends to overfit.\n",
        "Improved CNN (Q4 with augmentation + regularization) achieves the best trade-off between training and generalization, with the highest\n",
        "test accuracy"
      ],
      "metadata": {
        "id": "CoWx8hqNHzOm"
      },
      "id": "CoWx8hqNHzOm"
    },
    {
      "cell_type": "markdown",
      "source": [
        "What are causes of overfitting in a CNN model? Name 4 methods which can be used to\n",
        "resolve the overfitting issue in a CNN architecture.\n",
        "Overfitting occurs when your CNN model becomes too specialized in the training data, learning the noise\n",
        "and specific details rather than the underlying patterns.2 This results in a model that performs exceptionally\n",
        "well on the data it was trained on but fails to generalize to new, unseen data. Think of it like a student who\n",
        "memorizes the answers to a practice test but doesn't understand the concepts, so they fail the actual exam.\n",
        "Here are the primary causes of overfitting in a CNN model:\n",
        "• Insufficient Training Data: When you have a small dataset, the model doesn't have enough\n",
        "examples to learn the general features of the data. It's much easier for the model to simply\n",
        "memorize the limited examples it has.\n",
        "• Excessively Complex Model: A very deep and wide CNN has a large number of parameters\n",
        "(weights and biases). This high capacity allows the model to learn even the most subtle and noisy\n",
        "patterns in the training data, leading to memorization.\n",
        "• Lack of Data Diversity: If your training data isn't representative of the real-world data your model\n",
        "will encounter, it will learn a biased representation. For example, if you're training a cat classifier and\n",
        "all your training images are of cats indoors, the model may struggle to recognize a cat in a grassy\n",
        "field.\n",
        "• Training for Too Long: If you train your model for too many epochs, it will eventually start to learn\n",
        "the noise in the training data after it has already learned the underlying patterns. You'll see the\n",
        "training loss continue to decrease while the validation loss starts to increase.\n",
        "4 Effective Methods to Combat Overfitting in CNNs\n",
        "Here are four widely-used and effective techniques to resolve the overfitting issue in your CNN architecture\n",
        "1. Data Augmentation\n",
        "Data augmentation artificially expands your training dataset by creating modified versions of your existing\n",
        "images. This exposes your model to a wider variety of training examples, making it more robust and less\n",
        "likely to overfit.\n",
        "Common data augmentation techniques include:\n",
        "• Rotation: Rotating the image by a certain degree.\n",
        "• Flipping: Horizontally or vertically flipping the image.\n",
        "• Zooming: Zooming in or out on the image.\n",
        "• Cropping: Randomly cropping a portion of the image.\n",
        "• Changing Brightness/Contrast: Adjusting the brightness and contrast of the image.9\n",
        "2. Dropout\n",
        "Dropout is a regularization technique where randomly selected neurons are \"dropped out\" or ignored during\n",
        "training. This means that their contribution to the activation of downstream neurons is temporarily removed\n",
        "on the forward pass, and any weight updates are not applied to the neuron on the backward pass. This\n",
        "forces the network to learn more robust features that are not dependent on the presence of specific neurons,\n",
        "thus improving generalization.\n",
        "3. Early Stopping\n",
        "Early stopping is a form of regularization where you monitor the model's performance on a validation set\n",
        "during training and stop the training process when the performance on the validation set begins to degrade.\n",
        "Typically, you would monitor the validation loss, and when it stops decreasing and starts to increase for a\n",
        "certain number of epochs (known as \"patience\"), you halt the training. This prevents the model from\n",
        "continuing to train and overfit to the training data.\n",
        "4. L1 and L2 Regularization\n",
        "Regularization techniques add a penalty term to the loss function, which discourages the model from\n",
        "learning overly complex patterns.\n",
        "• L1 Regularization (Lasso): Adds a penalty equal to the absolute value of the magnitude of the\n",
        "coefficients.This can lead to some weights being pushed to exactly zero, effectively performing\n",
        "feature selection.\n",
        "• L2 Regularization (Ridge): Adds a penalty equal to the square of the magnitude of the\n",
        "coefficients.This penalizes large weights more severely, encouraging the model to use smaller, more\n",
        "evenly distributed weights. This is the more commonly used regularization technique in deep\n",
        "learning.\n",
        "What is the usage of siamese network model? What are the various loss functions used in\n",
        "siamese network architecture.\n",
        "A Siamese network is a neural network architecture designed to learn a similarity function. Instead of\n",
        "classifying an input, it determines how similar two inputs are. It uses two identical subnetworks that share the\n",
        "same weights to process two different inputs, converting them into comparable feature vectors.\n",
        "The primary use of Siamese networks is for one-shot learning tasks where only one or a few examples of\n",
        "each class are available for training. Key applications include:\n",
        "• Face Verification: Confirming if a photo of a person matches their ID.\n",
        "• Signature Verification: Detecting if a signature is genuine or forged.\n",
        "• Duplicate Detection: Finding duplicate documents or images in a large dataset.\n",
        "Two common loss functions used in Siamese networks are:\n",
        "1. Contrastive Loss: This function aims to make the distance between feature vectors of a similar pair\n",
        "small, while pushing the distance between a dissimilar pair to be larger than a predefined margin. It\n",
        "calculates loss based on pairs of inputs (one similar pair, one dissimilar pair).\n",
        "2. Triplet Loss: This function is generally more effective. It takes three inputs: an anchor, a positive\n",
        "(similar to the anchor), and a negative (dissimilar to the anchor). The goal is to ensure the distance\n",
        "between the anchor and the positive is smaller than the distance between the anchor and the\n",
        "negative by a certain margin. This directly optimizes the relative similarity, leading to better feature\n",
        "embeddings.\n",
        "Explain the concepts of transfer learning, fine-tuning, and pre-training a deep learning\n",
        "architecture.\n",
        "Transfer Learning : This is a machine learning strategy where a model developed for a primary\n",
        "task is reused as the starting point for a model on a second, related task. It leverages existing\n",
        "\"knowledge,\" saving significant training time and resources, especially when the new task has\n",
        "limited data.\n",
        "Pre-training : This is the initial step where a deep learning model is trained on a massive, general\n",
        "dataset (e.g., ImageNet for images). The goal is to allow the model to learn a rich hierarchy of\n",
        "general features (like edges, textures, and shapes), creating a robust, pre-trained model.\n",
        "Fine-tuning : This is the process of adapting the pre-trained model for the specific new task. It\n",
        "involves replacing the final output layer of the pre-trained model to match the new task's\n",
        "requirements and then continuing the training on the new, smaller dataset. This is typically done\n",
        "with a very low learning rate to slightly adjust the learned weights without losing the valuable pre\u0002trained knowledge. Sometimes, early layers are \"frozen\" to prevent them from changing during this\n",
        "process.\n",
        "List down various performance metrics used for object detection.\n",
        "Here are the key performance metrics used for object detection:\n",
        "1. Intersection over Union (IoU)\n",
        "Intersection over Union (IoU) measures the overlap between the predicted bounding box and the ground\n",
        "truth (actual) bounding box. It quantifies how accurately the model has located an object. An IoU of 1\n",
        "signifies a perfect match, while an IoU of 0 means no overlap. A detection is typically considered a \"True\n",
        "Positive\" if its IoU with a ground truth box is above a certain threshold (e.g., 0.5).\n",
        "IoU= Area of Overlap / Area of Union\n",
        "2. Precision\n",
        "Precision answers the question: \"Of all the predictions your model made, how many were correct?\" It\n",
        "measures the accuracy of the positive predictions, indicating how many of the detected objects were actual\n",
        "objects.\n",
        "3. Recall (Sensitivity)\n",
        "Recall answers the question: \"Of all the actual objects present in the image, how many did your model\n",
        "correctly identify?\" It measures the model's ability to find all the ground truth objects.\n",
        "4. Mean Average Precision (mAP)\n",
        "Mean Average Precision (mAP) is the primary, all-encompassing metric for object detection. It provides a\n",
        "single score that represents the model's performance across all classes and various IoU thresholds. It is\n",
        "calculated by finding the Average Precision (AP) for each class (which is the area under the Precision\u0002Recall curve) and then averaging these AP scores across all classes. A higher mAP indicates a better\u0002performing model.\n",
        "Write briefly about semantic segmentation and instance segmentation ?\n",
        "Semantic Segmentation is a computer vision task that involves classifying each pixel of an image into a\n",
        "specific class. The goal is to assign a class label (like \"car,\" \"person,\" \"tree,\" or \"road\") to every single pixel.\n",
        "However, it does not distinguish between different objects of the same class.\n",
        "For example, if there are three cars in an image, semantic segmentation will label all pixels belonging to any\n",
        "of the three cars simply as \"car.\" It understands the category but not the individual objects.\n",
        "Instance Segmentation\n",
        "Instance Segmentation is a more advanced and granular task. Like semantic segmentation, it classifies\n",
        "each pixel into a specific class, but it also differentiates between individual instances of the same class.\n",
        "Using the same example, if there are three cars in an image, instance segmentation will not only label all\n",
        "their pixels as \"car\" but will also identify them as \"car 1,\" \"car 2,\" and \"car 3.\" It understands both the\n",
        "category and the individual object count and location.\n",
        "In short, semantic segmentation tells you what is in the image at a pixel level, while instance\n",
        "segmentation tells you what is there and also distinguishes each object individually.\n",
        "What is the difference between single stage and multi stage object detection models?\n",
        "The primary difference between single-stage and multi-stage (or two-stage) object detectors lies in their approach to\n",
        "identifying objects. Multi-stage models break the problem into two distinct steps (proposing regions and then classifying\n",
        "them), while single-stage models do it all in one go.\n",
        "Multi-Stage (Two-Stage) Object Detectors\n",
        "Multi-stage detectors, like the R-CNN family (R-CNN, Fast R-CNN, Faster R-CNN), prioritize accuracy by using a two\u0002step process:\n",
        "1. Region Proposal: The first stage scans the image to propose a set of potential regions that are likely to contain\n",
        "an object. This is called generating \"region proposals\" or \"regions of interest\" (RoI). This step acts as a filter,\n",
        "narrowing down the areas the model needs to focus on.\n",
        "2. Classification and Refinement: In the second stage, each proposed region is passed to a classifier to\n",
        "determine which object class it belongs to (or if it's just the background).Simultaneously, a regressor refines the\n",
        "coordinates of the bounding box to fit the object more precisely.\n",
        "This approach is very thorough, leading to higher accuracy, but the two-step process makes these models\n",
        "computationally intensive and slower.\n",
        "Single-Stage Object Detectors\n",
        "Single-stage detectors, such as YOLO (You Only Look Once) and SSD (Single Shot MultiBox Detector), prioritize\n",
        "speed by performing object detection in a single, unified step.They treat object detection as a simple regression\n",
        "problem.10 The model looks at the image just once and directly predicts:\n",
        "• A grid of bounding boxes across the image.\n",
        "• The class probability for each box.\n",
        "• The box coordinate offsets.\n",
        "By eliminating the separate region proposal stage, single-stage models are significantly faster and can perform detection\n",
        "in real-time.11 However, this speed often comes at the cost of lower accuracy compared to two-stage models, especially\n",
        "for detecting small objects.\n",
        "Summary of Key Differences\n",
        "Feature Multi-Stage Detectors (e.g., Faster R\u0002CNN) Single-Stage Detectors (e.g., YOLO, SSD)\n",
        "Process Two steps: 1. Propose Regions 2. Classify/\n",
        "Refine One step: Directly predict boxes and classes\n",
        "Primary\n",
        "Strength High Accuracy High Speed (Real-time capable)\n",
        "Primary\n",
        "Weaknes\n",
        "s\n",
        "Slower Less accurate, especially for small objects\n",
        "Explain the convolutional neural network architecture in detail.\n",
        "A Convolutional Neural Network (CNN or ConvNet) is a specialized type of deep neural network designed\n",
        "primarily for processing and analyzing visual data, such as images and videos.Its architecture is inspired by\n",
        "the human visual cortex and is highly effective at identifying patterns and features directly from input data.\n",
        "The architecture is built by stacking three main types of layers:\n",
        "1. Convolutional Layer\n",
        "This is the core building block of a CNN. Its primary purpose is to detect features in the input image. It uses\n",
        "a set of learnable filters (or kernels), which are small matrices of weights. Each filter is specialized to detect\n",
        "a specific feature, such as an edge, a corner, or a color patch.\n",
        "The filter slides or convolves across the entire input image, computing a dot product at each position. This\n",
        "process generates a 2D array called a feature map (or activation map), which indicates the locations and\n",
        "strength of the detected feature in the image.An activation function like ReLU (Rectified Linear Unit) is then\n",
        "applied to introduce non-linearity, allowing the network to learn more complex patterns.\n",
        "2. Pooling Layer (Subsampling)\n",
        "The pooling layer is typically added after the convolutional layer. Its main function is to progressively reduce\n",
        "the spatial dimensions (width and height) of the feature maps.This has two key benefits:\n",
        "• It reduces the number of parameters and computational cost in the network.\n",
        "• It helps in making the detected features more robust to changes in their position and orientation in\n",
        "the image (translation invariance).\n",
        "The most common type of pooling is Max Pooling, where a filter slides over the feature map and, at each\n",
        "position, outputs only the maximum value within its receptive field.\n",
        "3. Fully Connected Layer\n",
        "After several convolutional and pooling layers have extracted high-level features from the image, the\n",
        "flattened output is passed to a Fully Connected (FC) Layer. This is a traditional multi-layer perceptron\n",
        "where every neuron in one layer is connected to every neuron in the next layer.\n",
        "The job of the FC layer is to act as a classifier. It takes the high-level features learned by the previous\n",
        "layers and uses them to determine the final output, such as assigning a probability score to each class for\n",
        "classification tasks. The final layer often uses a Softmax activation function to output a probability\n",
        "distribution over the different classes.\n",
        "In summary, a CNN transforms an input image through a series of layers: the convolutional layers act as\n",
        "feature extractors, the pooling layers reduce dimensionality, and the fully connected layers perform the\n",
        "final classification based on the learned features.\n",
        "Key Idea Focus on quality through a filtered set of\n",
        "proposals\n",
        "Focus on speed by making predictions in one\n",
        "pass\n",
        "Use Case Applications where accuracy is critical\n",
        "(e.g., medical imaging)\n",
        "Applications requiring real-time performance\n",
        "(e.g., self-driving cars, video surveillance)\n",
        "Write briefly about the following topics, mention their usage in Neural network\n",
        "architectures. batch normalization and dropout.\n",
        "Batch Normalization (BN) is a technique used to stabilize and accelerate the training of deep neural\n",
        "networks. It normalizes the output of a previous activation layer by subtracting the batch mean and dividing\n",
        "by the batch standard deviation. This process transforms the inputs to the next layer to have a mean of zero\n",
        "and a variance of one.\n",
        "Usage in Neural Networks:\n",
        "• Faster Training: By ensuring the input distribution for every layer remains consistent (mitigating\n",
        "\"internal covariate shift\"), BN allows for the use of higher learning rates, which significantly speeds\n",
        "up convergence.\n",
        "• Reduces Overfitting: It has a slight regularization effect, reducing the need for other regularization\n",
        "techniques like Dropout. It is typically inserted after a convolutional or fully connected layer and\n",
        "before the non-linear activation function.\n",
        "Dropout is a powerful regularization technique used to prevent overfitting in neural networks. During\n",
        "training, it randomly sets the output of a fraction of neurons to zero at each update step. This means different\n",
        "sets of neurons are \"dropped out\" or ignored in each forward and backward pass.\n",
        "Usage in Neural Networks:\n",
        "• Prevents Overfitting: By randomly deactivating neurons, Dropout prevents the network from\n",
        "becoming too reliant on any single neuron or specific feature.It forces the network to learn more\n",
        "robust and redundant representations.\n",
        "• Improves Generalization: It acts like training many different smaller neural networks simultaneously\n",
        "and averaging their results, which improves the model's performance on unseen data. Dropout\n",
        "layers are typically applied to the hidden units of fully connected layers.\n",
        "What are the various hyperparameters with which you can control the overfitting in\n",
        "CNN architectures ?\n",
        "Dropout Rate is a hyperparameter that defines the fraction of neurons to randomly set to zero during each\n",
        "training step. It's a powerful regularization technique.\n",
        "• How it works: By increasing the dropout rate (e.g., from 0.2 to 0.5), you increase the amount of\n",
        "regularization. This forces the network to learn more robust and redundant features, as it cannot rely\n",
        "on any single neuron, thereby reducing its tendency to memorize the training data.\n",
        "2. L1/L2 Regularization Strength (Lambda)\n",
        "This hyperparameter, often denoted by lambda (λ), controls the strength of the penalty added to the loss\n",
        "function for large weight values.\n",
        "• How it works: A higher value of lambda increases the penalty for complexity. L2 regularization\n",
        "(Weight Decay) encourages the model to have smaller, more diffuse weight values, making it less\n",
        "likely to fit the noise in the training data. Tuning this value helps find the right balance between fitting\n",
        "the data and keeping the model simple.\n",
        "The Learning Rate determines the step size the optimizer takes during training to update the model's\n",
        "weights.\n",
        "• How it works: While not a direct regularization technique, an inappropriately high learning rate can\n",
        "cause the model to converge too quickly to a sharp minimum that overfits the training data. Using a\n",
        "smaller learning rate, often in combination with a learning rate scheduler, encourages the model to\n",
        "find a flatter, more generalizable minimum, thus helping to prevent overfitting.\n",
        "4. Model Complexity (Number of Layers/Neurons)\n",
        "The number of convolutional layers, filters per layer, and neurons in fully connected layers are crucial\n",
        "structural hyperparameters that define the model's capacity.\n",
        "• How it works: A model with too many layers or neurons has a high capacity to memorize the\n",
        "training data, including its noise. By reducing the number of layers or filters, you decrease the\n",
        "model's complexity and its ability to overfit, forcing it to learn only the most important underlying\n",
        "patterns.\n",
        "Write briefly about semantic segmentation and instance segmentation ? Write about the Mask\n",
        "RCNN architecture briefly. state the major components in the architecture.\n",
        "Semantic vs. Instance Segmentation\n",
        "Semantic Segmentation classifies each pixel in an image into a specific class (e.g., \"car,\" \"person,\" \"road\").\n",
        "It understands the category but does not distinguish between different objects of the same class. For\n",
        "example, all cars in an image would be colored the same.\n",
        "Instance Segmentation is more advanced. It also classifies each pixel but goes a step further by identifying\n",
        "and separating individual instances of each class. In the same example, each car would be identified as a\n",
        "distinct object (\"car 1,\" \"car 2\").\n",
        "Mask R-CNN Architecture\n",
        "Mask R-CNN is a powerful deep neural network architecture designed for instance segmentation. It\n",
        "extends the Faster R-CNN model (used for object detection) by adding a parallel branch that predicts a high\u0002quality segmentation mask for each detected object.It effectively combines object detection and semantic\n",
        "segmentation to achieve instance-level understanding.\n",
        "The major components of the Mask R-CNN architecture are:\n",
        "1. Backbone Network: A pre-trained Convolutional Neural Network (like ResNet) that acts as a feature\n",
        "extractor, creating a feature map from the input image.\n",
        "2. Region Proposal Network (RPN): This network scans the feature map and proposes candidate\n",
        "regions (\"Regions of Interest\" or RoIs) that are likely to contain an object.\n",
        "3. RoIAlign Layer: This layer takes the proposed regions and aligns them with the feature map,\n",
        "extracting a fixed-size feature map for each RoI without losing spatial information (an improvement\n",
        "over RoIPool).\n",
        "4. Parallel Branches: The extracted features for each RoI are then fed into two parallel branches:\n",
        "◦ One branch for classification and bounding box regression (like in Faster R-CNN).\n",
        "◦ A second branch for generating a pixel-wise segmentation mask for the object within the\n",
        "bounding box.\n",
        "Write briefly about semantic segmentation and instance segmentation ? Name one\n",
        "architecture used for each of these segmentation types.\n",
        "Semantic Segmentation is a computer vision task where every pixel in an image is assigned a class label,\n",
        "such as \"car,\" \"person,\" or \"road.\" The primary goal is to create a pixel-perfect map of the different categories\n",
        "present in the image. However, it does not differentiate between separate objects belonging to the same\n",
        "class. For instance, if an image contains three different cars, semantic segmentation will label all pixels of all\n",
        "three cars simply as \"car,\" without distinguishing one from another.\n",
        "A prominent architecture used for semantic segmentation is U-Net.\n",
        "Instance Segmentation is a more challenging and granular task.4 Like semantic segmentation, it classifies\n",
        "each pixel into a category, but it also identifies and separates individual instances of each class.5 In the\n",
        "example with three cars, instance segmentation would not only label all their pixels as \"car\" but would also\n",
        "uniquely identify each one as \"car 1,\" \"car 2,\" and \"car 3.\"\n",
        "This method effectively combines the goals of object detection (locating individual objects) and semantic\n",
        "segmentation (classifying pixels).\n",
        "A state-of-the-art architecture for instance segmentation is Mask R-CNN.\n",
        "What are the different types of pooling layers (at-least 3)? Explain each of them\n",
        "briefly.\n",
        "1. Max Pooling\n",
        "Max Pooling is the most common type of pooling layer. It works by sliding a window (kernel) over a feature\n",
        "map and, at each position, selecting the maximum value within that window. This single maximum value\n",
        "becomes the output for that region.\n",
        "Usage: It is highly effective at capturing the most prominent features (the ones with the highest activation) in\n",
        "a feature map. By selecting the strongest response, it helps the network become more robust to variations in\n",
        "the object's position and reduces the spatial dimensions of the data, making the network more efficient.\n",
        "2. Average Pooling\n",
        "Average Pooling operates by sliding a window over a feature map and, at each position, calculating the\n",
        "average of all values within that window. This average value becomes the output for that region.\n",
        "Usage: Unlike max pooling, which focuses on the most activated feature, average pooling captures a more\n",
        "generalized representation of the features within a region. It smooths the feature map and is often used in\n",
        "architectures like Inception networks and as a final step to flatten the feature map before a fully connected\n",
        "layer.\n",
        "3. Global Pooling\n",
        "Global Pooling is a more drastic form of downsampling. Instead of applying a sliding window, it reduces the\n",
        "entire feature map to a single value.\n",
        "• Global Max Pooling takes the maximum value from the entire feature map.\n",
        "• Global Average Pooling calculates the average of all values in the entire feature map.\n",
        "Usage: Global pooling is primarily used to drastically reduce the number of parameters in the network, often\n",
        "right before the final classification layer.12 By converting each feature map into a single value, it can replace\n",
        "the need for fully connected layers, which helps in reducing overfitting and making the model's architecture\n",
        "simpler.\n",
        "How many parameters need to be trained for the Neural Network with the following\n",
        "architecture:\n",
        "Input layer with 6 neurons -> Hidden Layer with 4 neurons-> Hidden layer with 2 neurons ->\n",
        "output layer (for predicting brain tumour or not).\n",
        "The neural network has a total of 41 trainable parameters.\n",
        "Here is the step-by-step calculation:\n",
        "1. Input Layer to Hidden Layer 1\n",
        "This connection is between the 6 input neurons and the 4 neurons in the first hidden layer.\n",
        "• Weights: 6×4=24\n",
        "• Biases: 4 (one for each neuron in the hidden layer)\n",
        "• Subtotal: 24+4=28 parameters\n",
        "2. Hidden Layer 1 to Hidden Layer 2\n",
        "This connection is between the 4 neurons in the first hidden layer and the 2 neurons in the second hidden\n",
        "layer.\n",
        "• Weights: 4×2=8\n",
        "• Biases: 2 (one for each neuron in the second hidden layer)\n",
        "• Subtotal: 8+2=10 parameters\n",
        "3. Hidden Layer 2 to Output Layer\n",
        "The output layer for a binary classification task (\"tumour or not\") has 1 neuron. This connection is between\n",
        "the 2 neurons in the second hidden layer and the 1 output neuron.\n",
        "• Weights: 2×1=2\n",
        "• Biases: 1 (for the output neuron)\n",
        "• Subtotal: 2+1=3 parameters\n",
        "Total Parameters\n",
        "The total number of trainable parameters is the sum of the parameters from each connection.\n",
        "Total Parameters=28+10+3=41\n",
        "What is Vanishing Gradient Problem? How to get rid of this?\n",
        "The vanishing gradient problem is a challenge in training deep neural networks where the gradients used\n",
        "to update the network's weights become extremely small during backpropagation. As these gradients shrink\n",
        "exponentially while moving from the output layer to the earlier layers, the weights of these initial layers\n",
        "update very slowly or not at all, preventing them from learning effectively.\n",
        "Here are three common ways to get rid of it:\n",
        "1. Use Non-saturating Activation Functions\n",
        "Instead of activation functions like Sigmoid or Tanh that squash outputs into a small range and have small\n",
        "derivatives, use functions that maintain a healthy gradient. The most popular choice is the ReLU (Rectified\n",
        "Linear Unit), as its derivative is a constant 1 for positive inputs, which prevents the gradient from shrinking.\n",
        "2. Implement Residual Networks (ResNets)\n",
        "ResNets introduce \"skip connections\" that allow the gradient to bypass several layers and flow directly to\n",
        "earlier layers. This shortcut acts as an express path for the gradient, ensuring that even the very first layers\n",
        "of a deep network receive a strong update signal.\n",
        "3. Use Better Weight Initialization\n",
        "Properly initializing the weights of the network can prevent gradients from becoming too small from the start.\n",
        "Techniques like He Initialization (for ReLU) or Xavier/Glorot Initialization are designed to set the initial\n",
        "weights in a way that helps maintain a stable gradient flow throughout the network.\n",
        "List down various performance metrics used for object detection. Why should one use IoU\n",
        "score to measure object detection performance?\n",
        "Here are the primary performance metrics used for object detection:\n",
        "• Intersection over Union (IoU): Measures the overlap between the predicted and actual bounding\n",
        "boxes.\n",
        "• Precision: Indicates the accuracy of the positive predictions (i.e., \"What fraction of your predictions\n",
        "were correct?\").\n",
        "• Recall: Measures the model's ability to find all the actual objects (i.e., \"What fraction of the true\n",
        "objects did you find?\").\n",
        "• Average Precision (AP): A single number that summarizes the Precision-Recall curve, representing\n",
        "the model's performance for a single class.\n",
        "• Mean Average Precision (mAP): The average of the AP scores across all object classes, providing\n",
        "a single, comprehensive metric for the entire model.\n",
        "Why IoU is Used\n",
        "The Intersection over Union (IoU) score is fundamental to measuring object detection performance\n",
        "because it evaluates the localization accuracy of the predictions. Unlike classification, object detection has\n",
        "two goals: correctly classifying an object and precisely locating it.\n",
        "IoU provides a simple and effective way to quantify how well the predicted bounding box aligns with the\n",
        "ground truth bounding box. This score is then used as a threshold to decide whether a detection is a True\n",
        "Positive (TP) or a False Positive (FP). For example, if the IoU is above a threshold (commonly 0.5), the\n",
        "detection is considered successful; otherwise, it's considered a failure. Without IoU, you could only measure\n",
        "if the class was correct, but you would have no idea if the object was actually located correctly in the image.\n",
        "Explain Backpropagation. What are the two types of Backpropagation Networks.\n",
        "Backpropagation, short for \"backward propagation of errors,\" is the core algorithm used to train artificial\n",
        "neural networks. It works by calculating how much the network's predictions were wrong and then feeding\n",
        "that error information backward through the network to adjust the internal weights and biases.\n",
        "Think of it like a game of telephone in reverse. After the final person hears the message (the network makes\n",
        "a prediction), you find out it's wrong. To fix it, you go backward from person to person (layer by layer), telling\n",
        "each one how they contributed to the final error so they can adjust what they pass on next time.\n",
        "The process involves two main passes:\n",
        "1. Forward Pass: Input data is fed through the network, layer by layer, to produce an output or\n",
        "prediction.\n",
        "2. Backward Pass: The algorithm calculates the difference between the predicted output and the\n",
        "actual target (the error). It then calculates the gradient (derivative) of this error with respect to each\n",
        "weight and bias in the network. This gradient tells the network the direction and magnitude of the\n",
        "change needed for each weight to reduce the error. Finally, it uses an optimization algorithm (like\n",
        "Gradient Descent) to update the weights and biases.\n",
        "This cycle of forward and backward passes is repeated until the network's error is minimized.\n",
        "Two Types of Backpropagation Networks\n",
        "The two main types of backpropagation are distinguished by how they handle the data:\n",
        "1. Static Backpropagation\n",
        "In this type, the network is trained on a fixed dataset where the input produces a static (fixed) output.The\n",
        "network learns to map a static input to a static output. It's used for solving static problems like pattern\n",
        "recognition or classification, where the input-output relationships do not change over time. For example,\n",
        "classifying an image as a \"cat\" or a \"dog\" is a static problem.\n",
        "2. Recurrent Backpropagation\n",
        "This is used for Recurrent Neural Networks (RNNs), where the network's connections form a directed\n",
        "cycle. Recurrent backpropagation is applied to problems where the output depends not only on the current\n",
        "input but also on previous inputs (i.e., it has memory).The error is propagated backward through time as well\n",
        "as through the layers of the network.This makes it suitable for sequential data tasks like natural language\n",
        "processing, speech recognition, and time-series prediction. A common implementation of this is called\n",
        "Backpropagation Through Time (BPTT).\n",
        "List and brief about the activation functions in neural networks?\n",
        "Here are some of the most common activation functions used in neural networks.\n",
        "An activation function is a crucial component of a neural network that decides whether a neuron should be\n",
        "activated or not. It introduces non-linearity into the network, allowing it to learn complex patterns from the\n",
        "data.\n",
        "1. Sigmoid (Logistic) Function\n",
        "The Sigmoid function squashes any real-valued input into a range between 0 and 1. It's often used in the\n",
        "output layer of a binary classification model to represent a probability.\n",
        "• Formula: σ(x)=1+e−x1\n",
        "• Pros: Smooth gradient, clear output as a probability.\n",
        "• Cons: Suffers from the vanishing gradient problem, which can slow down training. Its output is not\n",
        "zero-centered, which can also be a disadvantage.\n",
        "2. Tanh (Hyperbolic Tangent) Function\n",
        "The Tanh function is similar to the Sigmoid but squashes the input into a range between -1 and 1. Because\n",
        "its output is zero-centered, it often performs better than the Sigmoid function in hidden layers.\n",
        "• Formula: tanh(x)=. ex−e−x / ex+e−x\n",
        "• Pros: Zero-centered output, which helps in training.\n",
        "• Cons: Still suffers from the vanishing gradient problem for large positive or negative inputs.\n",
        "3. ReLU (Rectified Linear Unit)\n",
        "ReLU is the most widely used activation function in modern neural networks, especially in CNNs. It outputs\n",
        "the input directly if it is positive, and zero otherwise.\n",
        "• Formula: R(x)=max(0,x)\n",
        "• Pros: Computationally very efficient and helps mitigate the vanishing gradient problem.\n",
        "• Cons: Can suffer from the \"Dying ReLU\" problem, where neurons can become inactive and only\n",
        "output zero if their weights are updated in a way that the input is always negative.\n",
        "4. Leaky ReLU\n",
        "Leaky ReLU is an improvement over the standard ReLU function. It addresses the \"Dying ReLU\" problem by\n",
        "allowing a small, non-zero gradient when the input is negative.\n",
        "• Formula: L(x)=max(0.01x,x)\n",
        "• Pros: Prevents dying neurons, maintaining a small gradient for negative inputs.\n",
        "• Cons: The small slope for negative values is a hyperparameter that needs to be tuned.\n",
        "5. Softmax Function\n",
        "The Softmax function is typically used in the output layer of a multi-class classification network. It converts a\n",
        "vector of raw scores (logits) into a probability distribution, where each value is between 0 and 1, and the sum\n",
        "of all values is 1.\n",
        "• Formula: S(xi )=∑j exj exi\n",
        "• Pros: Ideal for multi-class classification as it provides a clear probability for each class.\n",
        "• Cons: Only suitable for the final layer in classification tasks.\n",
        "What is the role of convolution, Max-pool and flatten layers in CNN?\n",
        "The convolution layer is the core building block of a CNN and its main role is to detect features in the input\n",
        "image. It uses a set of learnable filters (or kernels) that slide across the image to identify patterns such as\n",
        "edges, corners, colors, and textures. Each filter is specialized to detect a specific feature, and by applying\n",
        "multiple filters, the layer creates a set of feature maps that highlight where these features are located in the\n",
        "image.\n",
        "Max-Pooling Layer\n",
        "The role of the max-pooling layer is to perform downsampling, which means reducing the spatial\n",
        "dimensions (width and height) of the feature maps. It does this by sliding a small window over a feature map\n",
        "and taking the maximum value from that window. This has two key benefits:\n",
        "1. Efficiency: It reduces the number of parameters and the computational cost of the network.\n",
        "2. Invariance: It makes the feature detection more robust to small shifts and distortions in the image\n",
        "(translation invariance).\n",
        "Flatten Layer\n",
        "The flatten layer serves as a bridge between the feature-extracting convolutional/pooling layers and the\n",
        "classification part of the network (the fully connected layers). Its role is to transform the 2D feature maps\n",
        "into a 1D vector. This is a necessary step because the fully connected layers that follow can only accept 1D\n",
        "data as input. The flatten layer simply takes the multi-dimensional output and unrolls it into a single, long\n",
        "vector that can be used for the final classification.\n",
        "How transfer learning will be helpful to prediction?\n",
        "Transfer learning is incredibly helpful for prediction because it allows a new model to leverage knowledge\n",
        "from a previously trained model, rather than starting from scratch.This makes the prediction process much\n",
        "more efficient and effective.\n",
        "1. Better Starting Point\n",
        "Instead of initializing a neural network with random weights (a blank slate), transfer learning starts with a\n",
        "pre-trained model that has already learned to recognize a rich set of features from a large, general dataset\n",
        "(like ImageNet for images). This model already understands basic patterns like edges, textures, and\n",
        "shapes.4 This provides a much better and more knowledgeable starting point for your specific prediction\n",
        "task.\n",
        "2. Faster Training\n",
        "Since the model already has a strong foundation of knowledge, it doesn't need to learn the basic features all\n",
        "over again. You only need to fine-tune the existing weights on your smaller, specific dataset. This\n",
        "dramatically reduces the amount of training time and computational resources required to build an effective\n",
        "prediction model.\n",
        "3. Improved Performance with Less Data\n",
        "Gathering a massive dataset for a specific prediction task can be difficult and expensive.Transfer learning\n",
        "excels in these situations because the pre-trained model has already learned general patterns from millions\n",
        "of examples. This allows you to achieve high performance on your prediction task even with a relatively\n",
        "small amount of training data.\n",
        "4. Better Generalization\n",
        "A model trained from scratch on a small dataset is highly prone to overfitting—it might perform well on the\n",
        "data it has seen but fail on new, unseen data. Because a transfer learning model starts with features that are\n",
        "already generalized from a massive, diverse dataset, it is less likely to overfit and will perform more reliably\n",
        "on real-world predictions.\n",
        "In essence, transfer learning helps with prediction by giving your model a significant head start, making it\n",
        "faster to train, more accurate with less data, and better at making predictions on new information."
      ],
      "metadata": {
        "id": "Yirb1wlWKiQQ"
      },
      "id": "Yirb1wlWKiQQ"
    },
    {
      "cell_type": "code",
      "source": [],
      "metadata": {
        "id": "J1fzczcdKtVr"
      },
      "id": "J1fzczcdKtVr",
      "execution_count": null,
      "outputs": []
    }
  ],
  "metadata": {
    "kernelspec": {
      "display_name": "Python 3",
      "name": "python3"
    },
    "language_info": {
      "name": "python"
    },
    "required_libs": [],
    "colab": {
      "provenance": []
    }
  },
  "nbformat": 4,
  "nbformat_minor": 5
}